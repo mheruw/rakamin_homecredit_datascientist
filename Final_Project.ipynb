{
  "nbformat": 4,
  "nbformat_minor": 0,
  "metadata": {
    "colab": {
      "provenance": []
    },
    "kernelspec": {
      "name": "python3",
      "display_name": "Python 3"
    },
    "language_info": {
      "name": "python"
    }
  },
  "cells": [
    {
      "cell_type": "code",
      "source": [
        "import pandas as pd\n",
        "import matplotlib.pyplot as plt\n",
        "import numpy as np\n",
        "import seaborn as sns\n",
        "import warnings\n",
        "warnings.filterwarnings(\"ignore\")"
      ],
      "metadata": {
        "id": "Of5EsJRq-lhR"
      },
      "execution_count": null,
      "outputs": []
    },
    {
      "cell_type": "code",
      "source": [
        "from google.colab import drive\n",
        "drive.mount('/content/drive')"
      ],
      "metadata": {
        "colab": {
          "base_uri": "https://localhost:8080/"
        },
        "id": "tdvotZwhlQWd",
        "outputId": "b4ddf041-66df-44f8-8d81-5289d52c05b3"
      },
      "execution_count": null,
      "outputs": [
        {
          "output_type": "stream",
          "name": "stdout",
          "text": [
            "Drive already mounted at /content/drive; to attempt to forcibly remount, call drive.mount(\"/content/drive\", force_remount=True).\n"
          ]
        }
      ]
    },
    {
      "cell_type": "code",
      "source": [
        "df = pd.read_csv(\"/content/drive/MyDrive/Project Zen/application_train.csv\")"
      ],
      "metadata": {
        "id": "e6HmHEyEDk67"
      },
      "execution_count": null,
      "outputs": []
    },
    {
      "cell_type": "markdown",
      "source": [
        "# **Data Understanding**"
      ],
      "metadata": {
        "id": "0D3lW1dO8PQo"
      }
    },
    {
      "cell_type": "code",
      "source": [
        "# Print head data (n=5)\n",
        "df.head()"
      ],
      "metadata": {
        "id": "fCGCpDuG8P9-",
        "colab": {
          "base_uri": "https://localhost:8080/",
          "height": 300
        },
        "outputId": "250674d8-fc30-4294-bb14-fb460152b052"
      },
      "execution_count": null,
      "outputs": [
        {
          "output_type": "execute_result",
          "data": {
            "text/plain": [
              "   SK_ID_CURR  TARGET NAME_CONTRACT_TYPE CODE_GENDER FLAG_OWN_CAR  \\\n",
              "0      100002       1         Cash loans           M            N   \n",
              "1      100003       0         Cash loans           F            N   \n",
              "2      100004       0    Revolving loans           M            Y   \n",
              "3      100006       0         Cash loans           F            N   \n",
              "4      100007       0         Cash loans           M            N   \n",
              "\n",
              "  FLAG_OWN_REALTY  CNT_CHILDREN  AMT_INCOME_TOTAL  AMT_CREDIT  AMT_ANNUITY  \\\n",
              "0               Y             0          202500.0    406597.5      24700.5   \n",
              "1               N             0          270000.0   1293502.5      35698.5   \n",
              "2               Y             0           67500.0    135000.0       6750.0   \n",
              "3               Y             0          135000.0    312682.5      29686.5   \n",
              "4               Y             0          121500.0    513000.0      21865.5   \n",
              "\n",
              "   ...  FLAG_DOCUMENT_18 FLAG_DOCUMENT_19 FLAG_DOCUMENT_20 FLAG_DOCUMENT_21  \\\n",
              "0  ...                 0                0                0                0   \n",
              "1  ...                 0                0                0                0   \n",
              "2  ...                 0                0                0                0   \n",
              "3  ...                 0                0                0                0   \n",
              "4  ...                 0                0                0                0   \n",
              "\n",
              "  AMT_REQ_CREDIT_BUREAU_HOUR AMT_REQ_CREDIT_BUREAU_DAY  \\\n",
              "0                        0.0                       0.0   \n",
              "1                        0.0                       0.0   \n",
              "2                        0.0                       0.0   \n",
              "3                        NaN                       NaN   \n",
              "4                        0.0                       0.0   \n",
              "\n",
              "   AMT_REQ_CREDIT_BUREAU_WEEK  AMT_REQ_CREDIT_BUREAU_MON  \\\n",
              "0                         0.0                        0.0   \n",
              "1                         0.0                        0.0   \n",
              "2                         0.0                        0.0   \n",
              "3                         NaN                        NaN   \n",
              "4                         0.0                        0.0   \n",
              "\n",
              "   AMT_REQ_CREDIT_BUREAU_QRT  AMT_REQ_CREDIT_BUREAU_YEAR  \n",
              "0                        0.0                         1.0  \n",
              "1                        0.0                         0.0  \n",
              "2                        0.0                         0.0  \n",
              "3                        NaN                         NaN  \n",
              "4                        0.0                         0.0  \n",
              "\n",
              "[5 rows x 122 columns]"
            ],
            "text/html": [
              "\n",
              "  <div id=\"df-4be5e556-1f67-4c7b-a52e-6f74d40f7060\">\n",
              "    <div class=\"colab-df-container\">\n",
              "      <div>\n",
              "<style scoped>\n",
              "    .dataframe tbody tr th:only-of-type {\n",
              "        vertical-align: middle;\n",
              "    }\n",
              "\n",
              "    .dataframe tbody tr th {\n",
              "        vertical-align: top;\n",
              "    }\n",
              "\n",
              "    .dataframe thead th {\n",
              "        text-align: right;\n",
              "    }\n",
              "</style>\n",
              "<table border=\"1\" class=\"dataframe\">\n",
              "  <thead>\n",
              "    <tr style=\"text-align: right;\">\n",
              "      <th></th>\n",
              "      <th>SK_ID_CURR</th>\n",
              "      <th>TARGET</th>\n",
              "      <th>NAME_CONTRACT_TYPE</th>\n",
              "      <th>CODE_GENDER</th>\n",
              "      <th>FLAG_OWN_CAR</th>\n",
              "      <th>FLAG_OWN_REALTY</th>\n",
              "      <th>CNT_CHILDREN</th>\n",
              "      <th>AMT_INCOME_TOTAL</th>\n",
              "      <th>AMT_CREDIT</th>\n",
              "      <th>AMT_ANNUITY</th>\n",
              "      <th>...</th>\n",
              "      <th>FLAG_DOCUMENT_18</th>\n",
              "      <th>FLAG_DOCUMENT_19</th>\n",
              "      <th>FLAG_DOCUMENT_20</th>\n",
              "      <th>FLAG_DOCUMENT_21</th>\n",
              "      <th>AMT_REQ_CREDIT_BUREAU_HOUR</th>\n",
              "      <th>AMT_REQ_CREDIT_BUREAU_DAY</th>\n",
              "      <th>AMT_REQ_CREDIT_BUREAU_WEEK</th>\n",
              "      <th>AMT_REQ_CREDIT_BUREAU_MON</th>\n",
              "      <th>AMT_REQ_CREDIT_BUREAU_QRT</th>\n",
              "      <th>AMT_REQ_CREDIT_BUREAU_YEAR</th>\n",
              "    </tr>\n",
              "  </thead>\n",
              "  <tbody>\n",
              "    <tr>\n",
              "      <th>0</th>\n",
              "      <td>100002</td>\n",
              "      <td>1</td>\n",
              "      <td>Cash loans</td>\n",
              "      <td>M</td>\n",
              "      <td>N</td>\n",
              "      <td>Y</td>\n",
              "      <td>0</td>\n",
              "      <td>202500.0</td>\n",
              "      <td>406597.5</td>\n",
              "      <td>24700.5</td>\n",
              "      <td>...</td>\n",
              "      <td>0</td>\n",
              "      <td>0</td>\n",
              "      <td>0</td>\n",
              "      <td>0</td>\n",
              "      <td>0.0</td>\n",
              "      <td>0.0</td>\n",
              "      <td>0.0</td>\n",
              "      <td>0.0</td>\n",
              "      <td>0.0</td>\n",
              "      <td>1.0</td>\n",
              "    </tr>\n",
              "    <tr>\n",
              "      <th>1</th>\n",
              "      <td>100003</td>\n",
              "      <td>0</td>\n",
              "      <td>Cash loans</td>\n",
              "      <td>F</td>\n",
              "      <td>N</td>\n",
              "      <td>N</td>\n",
              "      <td>0</td>\n",
              "      <td>270000.0</td>\n",
              "      <td>1293502.5</td>\n",
              "      <td>35698.5</td>\n",
              "      <td>...</td>\n",
              "      <td>0</td>\n",
              "      <td>0</td>\n",
              "      <td>0</td>\n",
              "      <td>0</td>\n",
              "      <td>0.0</td>\n",
              "      <td>0.0</td>\n",
              "      <td>0.0</td>\n",
              "      <td>0.0</td>\n",
              "      <td>0.0</td>\n",
              "      <td>0.0</td>\n",
              "    </tr>\n",
              "    <tr>\n",
              "      <th>2</th>\n",
              "      <td>100004</td>\n",
              "      <td>0</td>\n",
              "      <td>Revolving loans</td>\n",
              "      <td>M</td>\n",
              "      <td>Y</td>\n",
              "      <td>Y</td>\n",
              "      <td>0</td>\n",
              "      <td>67500.0</td>\n",
              "      <td>135000.0</td>\n",
              "      <td>6750.0</td>\n",
              "      <td>...</td>\n",
              "      <td>0</td>\n",
              "      <td>0</td>\n",
              "      <td>0</td>\n",
              "      <td>0</td>\n",
              "      <td>0.0</td>\n",
              "      <td>0.0</td>\n",
              "      <td>0.0</td>\n",
              "      <td>0.0</td>\n",
              "      <td>0.0</td>\n",
              "      <td>0.0</td>\n",
              "    </tr>\n",
              "    <tr>\n",
              "      <th>3</th>\n",
              "      <td>100006</td>\n",
              "      <td>0</td>\n",
              "      <td>Cash loans</td>\n",
              "      <td>F</td>\n",
              "      <td>N</td>\n",
              "      <td>Y</td>\n",
              "      <td>0</td>\n",
              "      <td>135000.0</td>\n",
              "      <td>312682.5</td>\n",
              "      <td>29686.5</td>\n",
              "      <td>...</td>\n",
              "      <td>0</td>\n",
              "      <td>0</td>\n",
              "      <td>0</td>\n",
              "      <td>0</td>\n",
              "      <td>NaN</td>\n",
              "      <td>NaN</td>\n",
              "      <td>NaN</td>\n",
              "      <td>NaN</td>\n",
              "      <td>NaN</td>\n",
              "      <td>NaN</td>\n",
              "    </tr>\n",
              "    <tr>\n",
              "      <th>4</th>\n",
              "      <td>100007</td>\n",
              "      <td>0</td>\n",
              "      <td>Cash loans</td>\n",
              "      <td>M</td>\n",
              "      <td>N</td>\n",
              "      <td>Y</td>\n",
              "      <td>0</td>\n",
              "      <td>121500.0</td>\n",
              "      <td>513000.0</td>\n",
              "      <td>21865.5</td>\n",
              "      <td>...</td>\n",
              "      <td>0</td>\n",
              "      <td>0</td>\n",
              "      <td>0</td>\n",
              "      <td>0</td>\n",
              "      <td>0.0</td>\n",
              "      <td>0.0</td>\n",
              "      <td>0.0</td>\n",
              "      <td>0.0</td>\n",
              "      <td>0.0</td>\n",
              "      <td>0.0</td>\n",
              "    </tr>\n",
              "  </tbody>\n",
              "</table>\n",
              "<p>5 rows × 122 columns</p>\n",
              "</div>\n",
              "      <button class=\"colab-df-convert\" onclick=\"convertToInteractive('df-4be5e556-1f67-4c7b-a52e-6f74d40f7060')\"\n",
              "              title=\"Convert this dataframe to an interactive table.\"\n",
              "              style=\"display:none;\">\n",
              "        \n",
              "  <svg xmlns=\"http://www.w3.org/2000/svg\" height=\"24px\"viewBox=\"0 0 24 24\"\n",
              "       width=\"24px\">\n",
              "    <path d=\"M0 0h24v24H0V0z\" fill=\"none\"/>\n",
              "    <path d=\"M18.56 5.44l.94 2.06.94-2.06 2.06-.94-2.06-.94-.94-2.06-.94 2.06-2.06.94zm-11 1L8.5 8.5l.94-2.06 2.06-.94-2.06-.94L8.5 2.5l-.94 2.06-2.06.94zm10 10l.94 2.06.94-2.06 2.06-.94-2.06-.94-.94-2.06-.94 2.06-2.06.94z\"/><path d=\"M17.41 7.96l-1.37-1.37c-.4-.4-.92-.59-1.43-.59-.52 0-1.04.2-1.43.59L10.3 9.45l-7.72 7.72c-.78.78-.78 2.05 0 2.83L4 21.41c.39.39.9.59 1.41.59.51 0 1.02-.2 1.41-.59l7.78-7.78 2.81-2.81c.8-.78.8-2.07 0-2.86zM5.41 20L4 18.59l7.72-7.72 1.47 1.35L5.41 20z\"/>\n",
              "  </svg>\n",
              "      </button>\n",
              "      \n",
              "  <style>\n",
              "    .colab-df-container {\n",
              "      display:flex;\n",
              "      flex-wrap:wrap;\n",
              "      gap: 12px;\n",
              "    }\n",
              "\n",
              "    .colab-df-convert {\n",
              "      background-color: #E8F0FE;\n",
              "      border: none;\n",
              "      border-radius: 50%;\n",
              "      cursor: pointer;\n",
              "      display: none;\n",
              "      fill: #1967D2;\n",
              "      height: 32px;\n",
              "      padding: 0 0 0 0;\n",
              "      width: 32px;\n",
              "    }\n",
              "\n",
              "    .colab-df-convert:hover {\n",
              "      background-color: #E2EBFA;\n",
              "      box-shadow: 0px 1px 2px rgba(60, 64, 67, 0.3), 0px 1px 3px 1px rgba(60, 64, 67, 0.15);\n",
              "      fill: #174EA6;\n",
              "    }\n",
              "\n",
              "    [theme=dark] .colab-df-convert {\n",
              "      background-color: #3B4455;\n",
              "      fill: #D2E3FC;\n",
              "    }\n",
              "\n",
              "    [theme=dark] .colab-df-convert:hover {\n",
              "      background-color: #434B5C;\n",
              "      box-shadow: 0px 1px 3px 1px rgba(0, 0, 0, 0.15);\n",
              "      filter: drop-shadow(0px 1px 2px rgba(0, 0, 0, 0.3));\n",
              "      fill: #FFFFFF;\n",
              "    }\n",
              "  </style>\n",
              "\n",
              "      <script>\n",
              "        const buttonEl =\n",
              "          document.querySelector('#df-4be5e556-1f67-4c7b-a52e-6f74d40f7060 button.colab-df-convert');\n",
              "        buttonEl.style.display =\n",
              "          google.colab.kernel.accessAllowed ? 'block' : 'none';\n",
              "\n",
              "        async function convertToInteractive(key) {\n",
              "          const element = document.querySelector('#df-4be5e556-1f67-4c7b-a52e-6f74d40f7060');\n",
              "          const dataTable =\n",
              "            await google.colab.kernel.invokeFunction('convertToInteractive',\n",
              "                                                     [key], {});\n",
              "          if (!dataTable) return;\n",
              "\n",
              "          const docLinkHtml = 'Like what you see? Visit the ' +\n",
              "            '<a target=\"_blank\" href=https://colab.research.google.com/notebooks/data_table.ipynb>data table notebook</a>'\n",
              "            + ' to learn more about interactive tables.';\n",
              "          element.innerHTML = '';\n",
              "          dataTable['output_type'] = 'display_data';\n",
              "          await google.colab.output.renderOutput(dataTable, element);\n",
              "          const docLink = document.createElement('div');\n",
              "          docLink.innerHTML = docLinkHtml;\n",
              "          element.appendChild(docLink);\n",
              "        }\n",
              "      </script>\n",
              "    </div>\n",
              "  </div>\n",
              "  "
            ]
          },
          "metadata": {},
          "execution_count": 208
        }
      ]
    },
    {
      "cell_type": "code",
      "source": [
        "# Memberikan informasi baris dan kolom dataframe\n",
        "df.shape"
      ],
      "metadata": {
        "colab": {
          "base_uri": "https://localhost:8080/"
        },
        "id": "2hXNHRe9lis1",
        "outputId": "2012ec39-4a9a-4bfa-c090-00e684116e3d"
      },
      "execution_count": null,
      "outputs": [
        {
          "output_type": "execute_result",
          "data": {
            "text/plain": [
              "(307511, 122)"
            ]
          },
          "metadata": {},
          "execution_count": 209
        }
      ]
    },
    {
      "cell_type": "code",
      "source": [
        "# Menampilan kolom-kolom dari dataset\n",
        "df.columns.values"
      ],
      "metadata": {
        "colab": {
          "base_uri": "https://localhost:8080/"
        },
        "id": "LyV-Iom9li0u",
        "outputId": "6bcc6a74-5712-4741-9f48-a0807f7a535f"
      },
      "execution_count": null,
      "outputs": [
        {
          "output_type": "execute_result",
          "data": {
            "text/plain": [
              "array(['SK_ID_CURR', 'TARGET', 'NAME_CONTRACT_TYPE', 'CODE_GENDER',\n",
              "       'FLAG_OWN_CAR', 'FLAG_OWN_REALTY', 'CNT_CHILDREN',\n",
              "       'AMT_INCOME_TOTAL', 'AMT_CREDIT', 'AMT_ANNUITY', 'AMT_GOODS_PRICE',\n",
              "       'NAME_TYPE_SUITE', 'NAME_INCOME_TYPE', 'NAME_EDUCATION_TYPE',\n",
              "       'NAME_FAMILY_STATUS', 'NAME_HOUSING_TYPE',\n",
              "       'REGION_POPULATION_RELATIVE', 'DAYS_BIRTH', 'DAYS_EMPLOYED',\n",
              "       'DAYS_REGISTRATION', 'DAYS_ID_PUBLISH', 'OWN_CAR_AGE',\n",
              "       'FLAG_MOBIL', 'FLAG_EMP_PHONE', 'FLAG_WORK_PHONE',\n",
              "       'FLAG_CONT_MOBILE', 'FLAG_PHONE', 'FLAG_EMAIL', 'OCCUPATION_TYPE',\n",
              "       'CNT_FAM_MEMBERS', 'REGION_RATING_CLIENT',\n",
              "       'REGION_RATING_CLIENT_W_CITY', 'WEEKDAY_APPR_PROCESS_START',\n",
              "       'HOUR_APPR_PROCESS_START', 'REG_REGION_NOT_LIVE_REGION',\n",
              "       'REG_REGION_NOT_WORK_REGION', 'LIVE_REGION_NOT_WORK_REGION',\n",
              "       'REG_CITY_NOT_LIVE_CITY', 'REG_CITY_NOT_WORK_CITY',\n",
              "       'LIVE_CITY_NOT_WORK_CITY', 'ORGANIZATION_TYPE', 'EXT_SOURCE_1',\n",
              "       'EXT_SOURCE_2', 'EXT_SOURCE_3', 'APARTMENTS_AVG',\n",
              "       'BASEMENTAREA_AVG', 'YEARS_BEGINEXPLUATATION_AVG',\n",
              "       'YEARS_BUILD_AVG', 'COMMONAREA_AVG', 'ELEVATORS_AVG',\n",
              "       'ENTRANCES_AVG', 'FLOORSMAX_AVG', 'FLOORSMIN_AVG', 'LANDAREA_AVG',\n",
              "       'LIVINGAPARTMENTS_AVG', 'LIVINGAREA_AVG',\n",
              "       'NONLIVINGAPARTMENTS_AVG', 'NONLIVINGAREA_AVG', 'APARTMENTS_MODE',\n",
              "       'BASEMENTAREA_MODE', 'YEARS_BEGINEXPLUATATION_MODE',\n",
              "       'YEARS_BUILD_MODE', 'COMMONAREA_MODE', 'ELEVATORS_MODE',\n",
              "       'ENTRANCES_MODE', 'FLOORSMAX_MODE', 'FLOORSMIN_MODE',\n",
              "       'LANDAREA_MODE', 'LIVINGAPARTMENTS_MODE', 'LIVINGAREA_MODE',\n",
              "       'NONLIVINGAPARTMENTS_MODE', 'NONLIVINGAREA_MODE',\n",
              "       'APARTMENTS_MEDI', 'BASEMENTAREA_MEDI',\n",
              "       'YEARS_BEGINEXPLUATATION_MEDI', 'YEARS_BUILD_MEDI',\n",
              "       'COMMONAREA_MEDI', 'ELEVATORS_MEDI', 'ENTRANCES_MEDI',\n",
              "       'FLOORSMAX_MEDI', 'FLOORSMIN_MEDI', 'LANDAREA_MEDI',\n",
              "       'LIVINGAPARTMENTS_MEDI', 'LIVINGAREA_MEDI',\n",
              "       'NONLIVINGAPARTMENTS_MEDI', 'NONLIVINGAREA_MEDI',\n",
              "       'FONDKAPREMONT_MODE', 'HOUSETYPE_MODE', 'TOTALAREA_MODE',\n",
              "       'WALLSMATERIAL_MODE', 'EMERGENCYSTATE_MODE',\n",
              "       'OBS_30_CNT_SOCIAL_CIRCLE', 'DEF_30_CNT_SOCIAL_CIRCLE',\n",
              "       'OBS_60_CNT_SOCIAL_CIRCLE', 'DEF_60_CNT_SOCIAL_CIRCLE',\n",
              "       'DAYS_LAST_PHONE_CHANGE', 'FLAG_DOCUMENT_2', 'FLAG_DOCUMENT_3',\n",
              "       'FLAG_DOCUMENT_4', 'FLAG_DOCUMENT_5', 'FLAG_DOCUMENT_6',\n",
              "       'FLAG_DOCUMENT_7', 'FLAG_DOCUMENT_8', 'FLAG_DOCUMENT_9',\n",
              "       'FLAG_DOCUMENT_10', 'FLAG_DOCUMENT_11', 'FLAG_DOCUMENT_12',\n",
              "       'FLAG_DOCUMENT_13', 'FLAG_DOCUMENT_14', 'FLAG_DOCUMENT_15',\n",
              "       'FLAG_DOCUMENT_16', 'FLAG_DOCUMENT_17', 'FLAG_DOCUMENT_18',\n",
              "       'FLAG_DOCUMENT_19', 'FLAG_DOCUMENT_20', 'FLAG_DOCUMENT_21',\n",
              "       'AMT_REQ_CREDIT_BUREAU_HOUR', 'AMT_REQ_CREDIT_BUREAU_DAY',\n",
              "       'AMT_REQ_CREDIT_BUREAU_WEEK', 'AMT_REQ_CREDIT_BUREAU_MON',\n",
              "       'AMT_REQ_CREDIT_BUREAU_QRT', 'AMT_REQ_CREDIT_BUREAU_YEAR'],\n",
              "      dtype=object)"
            ]
          },
          "metadata": {},
          "execution_count": 210
        }
      ]
    },
    {
      "cell_type": "code",
      "source": [
        "# Cek duplikat data dan diketahui data tidak terdapat duplikat\n",
        "df[df.duplicated()]"
      ],
      "metadata": {
        "colab": {
          "base_uri": "https://localhost:8080/",
          "height": 143
        },
        "id": "56moffZzli_k",
        "outputId": "a2ad3dc6-abbe-44fa-c01b-35c4ac1c6805"
      },
      "execution_count": null,
      "outputs": [
        {
          "output_type": "execute_result",
          "data": {
            "text/plain": [
              "Empty DataFrame\n",
              "Columns: [SK_ID_CURR, TARGET, NAME_CONTRACT_TYPE, CODE_GENDER, FLAG_OWN_CAR, FLAG_OWN_REALTY, CNT_CHILDREN, AMT_INCOME_TOTAL, AMT_CREDIT, AMT_ANNUITY, AMT_GOODS_PRICE, NAME_TYPE_SUITE, NAME_INCOME_TYPE, NAME_EDUCATION_TYPE, NAME_FAMILY_STATUS, NAME_HOUSING_TYPE, REGION_POPULATION_RELATIVE, DAYS_BIRTH, DAYS_EMPLOYED, DAYS_REGISTRATION, DAYS_ID_PUBLISH, OWN_CAR_AGE, FLAG_MOBIL, FLAG_EMP_PHONE, FLAG_WORK_PHONE, FLAG_CONT_MOBILE, FLAG_PHONE, FLAG_EMAIL, OCCUPATION_TYPE, CNT_FAM_MEMBERS, REGION_RATING_CLIENT, REGION_RATING_CLIENT_W_CITY, WEEKDAY_APPR_PROCESS_START, HOUR_APPR_PROCESS_START, REG_REGION_NOT_LIVE_REGION, REG_REGION_NOT_WORK_REGION, LIVE_REGION_NOT_WORK_REGION, REG_CITY_NOT_LIVE_CITY, REG_CITY_NOT_WORK_CITY, LIVE_CITY_NOT_WORK_CITY, ORGANIZATION_TYPE, EXT_SOURCE_1, EXT_SOURCE_2, EXT_SOURCE_3, APARTMENTS_AVG, BASEMENTAREA_AVG, YEARS_BEGINEXPLUATATION_AVG, YEARS_BUILD_AVG, COMMONAREA_AVG, ELEVATORS_AVG, ENTRANCES_AVG, FLOORSMAX_AVG, FLOORSMIN_AVG, LANDAREA_AVG, LIVINGAPARTMENTS_AVG, LIVINGAREA_AVG, NONLIVINGAPARTMENTS_AVG, NONLIVINGAREA_AVG, APARTMENTS_MODE, BASEMENTAREA_MODE, YEARS_BEGINEXPLUATATION_MODE, YEARS_BUILD_MODE, COMMONAREA_MODE, ELEVATORS_MODE, ENTRANCES_MODE, FLOORSMAX_MODE, FLOORSMIN_MODE, LANDAREA_MODE, LIVINGAPARTMENTS_MODE, LIVINGAREA_MODE, NONLIVINGAPARTMENTS_MODE, NONLIVINGAREA_MODE, APARTMENTS_MEDI, BASEMENTAREA_MEDI, YEARS_BEGINEXPLUATATION_MEDI, YEARS_BUILD_MEDI, COMMONAREA_MEDI, ELEVATORS_MEDI, ENTRANCES_MEDI, FLOORSMAX_MEDI, FLOORSMIN_MEDI, LANDAREA_MEDI, LIVINGAPARTMENTS_MEDI, LIVINGAREA_MEDI, NONLIVINGAPARTMENTS_MEDI, NONLIVINGAREA_MEDI, FONDKAPREMONT_MODE, HOUSETYPE_MODE, TOTALAREA_MODE, WALLSMATERIAL_MODE, EMERGENCYSTATE_MODE, OBS_30_CNT_SOCIAL_CIRCLE, DEF_30_CNT_SOCIAL_CIRCLE, OBS_60_CNT_SOCIAL_CIRCLE, DEF_60_CNT_SOCIAL_CIRCLE, DAYS_LAST_PHONE_CHANGE, FLAG_DOCUMENT_2, FLAG_DOCUMENT_3, FLAG_DOCUMENT_4, FLAG_DOCUMENT_5, ...]\n",
              "Index: []\n",
              "\n",
              "[0 rows x 122 columns]"
            ],
            "text/html": [
              "\n",
              "  <div id=\"df-c5d74d6e-b910-4384-8c28-0f572b2a9989\">\n",
              "    <div class=\"colab-df-container\">\n",
              "      <div>\n",
              "<style scoped>\n",
              "    .dataframe tbody tr th:only-of-type {\n",
              "        vertical-align: middle;\n",
              "    }\n",
              "\n",
              "    .dataframe tbody tr th {\n",
              "        vertical-align: top;\n",
              "    }\n",
              "\n",
              "    .dataframe thead th {\n",
              "        text-align: right;\n",
              "    }\n",
              "</style>\n",
              "<table border=\"1\" class=\"dataframe\">\n",
              "  <thead>\n",
              "    <tr style=\"text-align: right;\">\n",
              "      <th></th>\n",
              "      <th>SK_ID_CURR</th>\n",
              "      <th>TARGET</th>\n",
              "      <th>NAME_CONTRACT_TYPE</th>\n",
              "      <th>CODE_GENDER</th>\n",
              "      <th>FLAG_OWN_CAR</th>\n",
              "      <th>FLAG_OWN_REALTY</th>\n",
              "      <th>CNT_CHILDREN</th>\n",
              "      <th>AMT_INCOME_TOTAL</th>\n",
              "      <th>AMT_CREDIT</th>\n",
              "      <th>AMT_ANNUITY</th>\n",
              "      <th>...</th>\n",
              "      <th>FLAG_DOCUMENT_18</th>\n",
              "      <th>FLAG_DOCUMENT_19</th>\n",
              "      <th>FLAG_DOCUMENT_20</th>\n",
              "      <th>FLAG_DOCUMENT_21</th>\n",
              "      <th>AMT_REQ_CREDIT_BUREAU_HOUR</th>\n",
              "      <th>AMT_REQ_CREDIT_BUREAU_DAY</th>\n",
              "      <th>AMT_REQ_CREDIT_BUREAU_WEEK</th>\n",
              "      <th>AMT_REQ_CREDIT_BUREAU_MON</th>\n",
              "      <th>AMT_REQ_CREDIT_BUREAU_QRT</th>\n",
              "      <th>AMT_REQ_CREDIT_BUREAU_YEAR</th>\n",
              "    </tr>\n",
              "  </thead>\n",
              "  <tbody>\n",
              "  </tbody>\n",
              "</table>\n",
              "<p>0 rows × 122 columns</p>\n",
              "</div>\n",
              "      <button class=\"colab-df-convert\" onclick=\"convertToInteractive('df-c5d74d6e-b910-4384-8c28-0f572b2a9989')\"\n",
              "              title=\"Convert this dataframe to an interactive table.\"\n",
              "              style=\"display:none;\">\n",
              "        \n",
              "  <svg xmlns=\"http://www.w3.org/2000/svg\" height=\"24px\"viewBox=\"0 0 24 24\"\n",
              "       width=\"24px\">\n",
              "    <path d=\"M0 0h24v24H0V0z\" fill=\"none\"/>\n",
              "    <path d=\"M18.56 5.44l.94 2.06.94-2.06 2.06-.94-2.06-.94-.94-2.06-.94 2.06-2.06.94zm-11 1L8.5 8.5l.94-2.06 2.06-.94-2.06-.94L8.5 2.5l-.94 2.06-2.06.94zm10 10l.94 2.06.94-2.06 2.06-.94-2.06-.94-.94-2.06-.94 2.06-2.06.94z\"/><path d=\"M17.41 7.96l-1.37-1.37c-.4-.4-.92-.59-1.43-.59-.52 0-1.04.2-1.43.59L10.3 9.45l-7.72 7.72c-.78.78-.78 2.05 0 2.83L4 21.41c.39.39.9.59 1.41.59.51 0 1.02-.2 1.41-.59l7.78-7.78 2.81-2.81c.8-.78.8-2.07 0-2.86zM5.41 20L4 18.59l7.72-7.72 1.47 1.35L5.41 20z\"/>\n",
              "  </svg>\n",
              "      </button>\n",
              "      \n",
              "  <style>\n",
              "    .colab-df-container {\n",
              "      display:flex;\n",
              "      flex-wrap:wrap;\n",
              "      gap: 12px;\n",
              "    }\n",
              "\n",
              "    .colab-df-convert {\n",
              "      background-color: #E8F0FE;\n",
              "      border: none;\n",
              "      border-radius: 50%;\n",
              "      cursor: pointer;\n",
              "      display: none;\n",
              "      fill: #1967D2;\n",
              "      height: 32px;\n",
              "      padding: 0 0 0 0;\n",
              "      width: 32px;\n",
              "    }\n",
              "\n",
              "    .colab-df-convert:hover {\n",
              "      background-color: #E2EBFA;\n",
              "      box-shadow: 0px 1px 2px rgba(60, 64, 67, 0.3), 0px 1px 3px 1px rgba(60, 64, 67, 0.15);\n",
              "      fill: #174EA6;\n",
              "    }\n",
              "\n",
              "    [theme=dark] .colab-df-convert {\n",
              "      background-color: #3B4455;\n",
              "      fill: #D2E3FC;\n",
              "    }\n",
              "\n",
              "    [theme=dark] .colab-df-convert:hover {\n",
              "      background-color: #434B5C;\n",
              "      box-shadow: 0px 1px 3px 1px rgba(0, 0, 0, 0.15);\n",
              "      filter: drop-shadow(0px 1px 2px rgba(0, 0, 0, 0.3));\n",
              "      fill: #FFFFFF;\n",
              "    }\n",
              "  </style>\n",
              "\n",
              "      <script>\n",
              "        const buttonEl =\n",
              "          document.querySelector('#df-c5d74d6e-b910-4384-8c28-0f572b2a9989 button.colab-df-convert');\n",
              "        buttonEl.style.display =\n",
              "          google.colab.kernel.accessAllowed ? 'block' : 'none';\n",
              "\n",
              "        async function convertToInteractive(key) {\n",
              "          const element = document.querySelector('#df-c5d74d6e-b910-4384-8c28-0f572b2a9989');\n",
              "          const dataTable =\n",
              "            await google.colab.kernel.invokeFunction('convertToInteractive',\n",
              "                                                     [key], {});\n",
              "          if (!dataTable) return;\n",
              "\n",
              "          const docLinkHtml = 'Like what you see? Visit the ' +\n",
              "            '<a target=\"_blank\" href=https://colab.research.google.com/notebooks/data_table.ipynb>data table notebook</a>'\n",
              "            + ' to learn more about interactive tables.';\n",
              "          element.innerHTML = '';\n",
              "          dataTable['output_type'] = 'display_data';\n",
              "          await google.colab.output.renderOutput(dataTable, element);\n",
              "          const docLink = document.createElement('div');\n",
              "          docLink.innerHTML = docLinkHtml;\n",
              "          element.appendChild(docLink);\n",
              "        }\n",
              "      </script>\n",
              "    </div>\n",
              "  </div>\n",
              "  "
            ]
          },
          "metadata": {},
          "execution_count": 211
        }
      ]
    },
    {
      "cell_type": "code",
      "source": [
        "# jumlah kolom berdasarkan tipe datanya\n",
        "df.dtypes.value_counts()"
      ],
      "metadata": {
        "colab": {
          "base_uri": "https://localhost:8080/"
        },
        "id": "asL42VnRqgzY",
        "outputId": "68794906-f8fd-4c5f-b276-3bd616e2cdba"
      },
      "execution_count": null,
      "outputs": [
        {
          "output_type": "execute_result",
          "data": {
            "text/plain": [
              "float64    65\n",
              "int64      41\n",
              "object     16\n",
              "dtype: int64"
            ]
          },
          "metadata": {},
          "execution_count": 212
        }
      ]
    },
    {
      "cell_type": "code",
      "source": [
        "#  dari unique classes setiap object kolom\n",
        "df.select_dtypes('object').apply(pd.Series.nunique, axis = 0)"
      ],
      "metadata": {
        "colab": {
          "base_uri": "https://localhost:8080/"
        },
        "id": "qhGZX_DrobvK",
        "outputId": "ff7c38b6-c97c-4c48-cbf0-4e72d14ff267"
      },
      "execution_count": null,
      "outputs": [
        {
          "output_type": "execute_result",
          "data": {
            "text/plain": [
              "NAME_CONTRACT_TYPE             2\n",
              "CODE_GENDER                    3\n",
              "FLAG_OWN_CAR                   2\n",
              "FLAG_OWN_REALTY                2\n",
              "NAME_TYPE_SUITE                7\n",
              "NAME_INCOME_TYPE               8\n",
              "NAME_EDUCATION_TYPE            5\n",
              "NAME_FAMILY_STATUS             6\n",
              "NAME_HOUSING_TYPE              6\n",
              "OCCUPATION_TYPE               18\n",
              "WEEKDAY_APPR_PROCESS_START     7\n",
              "ORGANIZATION_TYPE             58\n",
              "FONDKAPREMONT_MODE             4\n",
              "HOUSETYPE_MODE                 3\n",
              "WALLSMATERIAL_MODE             7\n",
              "EMERGENCYSTATE_MODE            2\n",
              "dtype: int64"
            ]
          },
          "metadata": {},
          "execution_count": 213
        }
      ]
    },
    {
      "cell_type": "code",
      "source": [
        "fig, axs = plt.subplots(ncols=6, figsize = (40, 6))\n",
        "# jumlah masing2 value pada kolom TARGET\n",
        "sns.countplot(data=df,x=\"TARGET\",  ax=axs[0])\n",
        "# jumlah masing2 value TARGET berdasarkan kolom NAME_CONTRACT_TYPE\n",
        "sns.countplot(data=df,x=\"TARGET\", hue=\"NAME_CONTRACT_TYPE\",  ax=axs[1])\n",
        "# jumlah masing2 value TARGET berdasarkan kolom CODE_GENDER\n",
        "sns.countplot(data=df,x=\"TARGET\", hue=\"CODE_GENDER\",  ax=axs[2])\n",
        "# jumlah masing2 value TARGET berdasarkan kolom FLAG_OWN_CAR\n",
        "sns.countplot(data=df,x=\"TARGET\", hue=\"FLAG_OWN_CAR\",  ax=axs[3])\n",
        "# jumlah masing2 value TARGET berdasarkan kolom NAME_EDUCATION_TYPE\n",
        "sns.countplot(data=df,x=\"TARGET\", hue=\"NAME_EDUCATION_TYPE\",  ax=axs[4])\n",
        "# jumlah masing2 value TARGET berdasarkan kolom FLAG_OWN_REALTY \n",
        "sns.countplot(data=df,x=\"TARGET\", hue=\"FLAG_OWN_REALTY\",  ax=axs[5])"
      ],
      "metadata": {
        "colab": {
          "base_uri": "https://localhost:8080/",
          "height": 386
        },
        "id": "gxXUDfgKyB3i",
        "outputId": "af03d469-3434-4a25-95d7-2097c32fccac"
      },
      "execution_count": null,
      "outputs": [
        {
          "output_type": "execute_result",
          "data": {
            "text/plain": [
              "<matplotlib.axes._subplots.AxesSubplot at 0x7f37d7d18280>"
            ]
          },
          "metadata": {},
          "execution_count": 214
        },
        {
          "output_type": "display_data",
          "data": {
            "text/plain": [
              "<Figure size 2880x432 with 6 Axes>"
            ],
            "image/png": "[encoded data removed]"
          },
          "metadata": {
            "needs_background": "light"
          }
        }
      ]
    },
    {
      "cell_type": "code",
      "source": [
        "fig, axs = plt.subplots(ncols=5, figsize = (40, 6))\n",
        "# jumlah masing2 value pada kolom CNT_CHILDREN\n",
        "sns.countplot(data=df,x=\"CNT_CHILDREN\",  ax=axs[0])\n",
        "# jumlah masing2 value TARGET berdasarkan kolom NAME_INCOME_TYPE\n",
        "sns.countplot(data=df,x=\"TARGET\", hue=\"NAME_INCOME_TYPE\",  ax=axs[1])\n",
        "# jumlah masing2 value TARGET berdasarkan kolom NAME_FAMILY_STATUS\n",
        "sns.countplot(data=df,x=\"TARGET\", hue=\"NAME_FAMILY_STATUS\",  ax=axs[2])\n",
        "# jumlah masing2 value TARGET berdasarkan kolom NAME_TYPE_SUITE\n",
        "sns.countplot(data=df,x=\"TARGET\", hue=\"NAME_TYPE_SUITE\",  ax=axs[3])\n",
        "# jumlah masing2 value TARGET berdasarkan kolom NAME_HOUSING_TYPE\n",
        "sns.countplot(data=df,x=\"TARGET\", hue=\"NAME_HOUSING_TYPE\",  ax=axs[4])"
      ],
      "metadata": {
        "colab": {
          "base_uri": "https://localhost:8080/",
          "height": 387
        },
        "id": "99E0jL0W7K8c",
        "outputId": "387e74ad-5c5b-485e-c2d7-b9deb155bdd5"
      },
      "execution_count": null,
      "outputs": [
        {
          "output_type": "execute_result",
          "data": {
            "text/plain": [
              "<matplotlib.axes._subplots.AxesSubplot at 0x7f37d7af40a0>"
            ]
          },
          "metadata": {},
          "execution_count": 215
        },
        {
          "output_type": "display_data",
          "data": {
            "text/plain": [
              "<Figure size 2880x432 with 5 Axes>"
            ],
            "image/png": "[encoded data removed]"
          },
          "metadata": {
            "needs_background": "light"
          }
        }
      ]
    },
    {
      "cell_type": "code",
      "source": [
        "# returns the absolute value of a number\n",
        "df['DAYS_BIRTH'] = abs(df['DAYS_BIRTH'])\n",
        "# hisplot the distribution of ages in years\n",
        "plt.hist(df['DAYS_BIRTH'] / 365, edgecolor = 'k', bins = 25)\n",
        "plt.title('Age of Client'); plt.xlabel('Age (years)'); plt.ylabel('Count');"
      ],
      "metadata": {
        "colab": {
          "base_uri": "https://localhost:8080/",
          "height": 295
        },
        "id": "qRcP5-LN7LKi",
        "outputId": "d7739302-0237-4f1a-d87c-5c1e2ba58c43"
      },
      "execution_count": null,
      "outputs": [
        {
          "output_type": "display_data",
          "data": {
            "text/plain": [
              "<Figure size 432x288 with 1 Axes>"
            ],
            "image/png": "[encoded data removed]"
          },
          "metadata": {
            "needs_background": "light"
          }
        }
      ]
    },
    {
      "cell_type": "code",
      "source": [
        "plt.figure(figsize = (10, 8))\n",
        "# KDE plot of loans that were repaid on time\n",
        "sns.kdeplot(df.loc[df['TARGET'] == 0, 'DAYS_BIRTH'] / 365, label = 'target == 0')\n",
        "# KDE plot of loans which were not repaid on time\n",
        "sns.kdeplot(df.loc[df['TARGET'] == 1, 'DAYS_BIRTH'] / 365, label = 'target == 1')\n",
        "# labeling of plot\n",
        "plt.xlabel('Age (years)'); plt.ylabel('Density'); plt.title('Distribution of Ages');\n",
        "plt.legend(['target == 0','target == 1'], loc='best')"
      ],
      "metadata": {
        "colab": {
          "base_uri": "https://localhost:8080/",
          "height": 530
        },
        "id": "TgE_k-au7LNU",
        "outputId": "350eb064-6a76-4330-b9ed-ffea3d18a2d8"
      },
      "execution_count": null,
      "outputs": [
        {
          "output_type": "execute_result",
          "data": {
            "text/plain": [
              "<matplotlib.legend.Legend at 0x7f37d79b0820>"
            ]
          },
          "metadata": {},
          "execution_count": 217
        },
        {
          "output_type": "display_data",
          "data": {
            "text/plain": [
              "<Figure size 720x576 with 1 Axes>"
            ],
            "image/png": "[encoded data removed]"
          },
          "metadata": {
            "needs_background": "light"
          }
        }
      ]
    },
    {
      "cell_type": "code",
      "source": [
        "# menampilkan kolerasi antar kolom terhadap TARGET\n",
        "correlations  = df.corr()['TARGET'].sort_values()\n",
        "print('Most Positive Correlations:\\n', correlations.tail(20))\n",
        "print('\\nMost Negative Correlations:\\n', correlations.head(20))"
      ],
      "metadata": {
        "colab": {
          "base_uri": "https://localhost:8080/"
        },
        "id": "bvK-mVT4DyCX",
        "outputId": "59590313-b7b8-45d5-a182-e7f7f5e0d141"
      },
      "execution_count": null,
      "outputs": [
        {
          "output_type": "stream",
          "name": "stdout",
          "text": [
            "Most Positive Correlations:\n",
            " OBS_60_CNT_SOCIAL_CIRCLE       0.009022\n",
            "OBS_30_CNT_SOCIAL_CIRCLE       0.009131\n",
            "CNT_FAM_MEMBERS                0.009308\n",
            "CNT_CHILDREN                   0.019187\n",
            "AMT_REQ_CREDIT_BUREAU_YEAR     0.019930\n",
            "FLAG_WORK_PHONE                0.028524\n",
            "DEF_60_CNT_SOCIAL_CIRCLE       0.031276\n",
            "DEF_30_CNT_SOCIAL_CIRCLE       0.032248\n",
            "LIVE_CITY_NOT_WORK_CITY        0.032518\n",
            "OWN_CAR_AGE                    0.037612\n",
            "DAYS_REGISTRATION              0.041975\n",
            "FLAG_DOCUMENT_3                0.044346\n",
            "REG_CITY_NOT_LIVE_CITY         0.044395\n",
            "FLAG_EMP_PHONE                 0.045982\n",
            "REG_CITY_NOT_WORK_CITY         0.050994\n",
            "DAYS_ID_PUBLISH                0.051457\n",
            "DAYS_LAST_PHONE_CHANGE         0.055218\n",
            "REGION_RATING_CLIENT           0.058899\n",
            "REGION_RATING_CLIENT_W_CITY    0.060893\n",
            "TARGET                         1.000000\n",
            "Name: TARGET, dtype: float64\n",
            "\n",
            "Most Negative Correlations:\n",
            " EXT_SOURCE_3                 -0.178919\n",
            "EXT_SOURCE_2                 -0.160472\n",
            "EXT_SOURCE_1                 -0.155317\n",
            "DAYS_BIRTH                   -0.078239\n",
            "DAYS_EMPLOYED                -0.044932\n",
            "FLOORSMAX_AVG                -0.044003\n",
            "FLOORSMAX_MEDI               -0.043768\n",
            "FLOORSMAX_MODE               -0.043226\n",
            "AMT_GOODS_PRICE              -0.039645\n",
            "REGION_POPULATION_RELATIVE   -0.037227\n",
            "ELEVATORS_AVG                -0.034199\n",
            "ELEVATORS_MEDI               -0.033863\n",
            "FLOORSMIN_AVG                -0.033614\n",
            "FLOORSMIN_MEDI               -0.033394\n",
            "LIVINGAREA_AVG               -0.032997\n",
            "LIVINGAREA_MEDI              -0.032739\n",
            "FLOORSMIN_MODE               -0.032698\n",
            "TOTALAREA_MODE               -0.032596\n",
            "ELEVATORS_MODE               -0.032131\n",
            "LIVINGAREA_MODE              -0.030685\n",
            "Name: TARGET, dtype: float64\n"
          ]
        }
      ]
    },
    {
      "cell_type": "markdown",
      "source": [
        "# **Data Preparation**"
      ],
      "metadata": {
        "id": "p4qfwYZm8QrE"
      }
    },
    {
      "cell_type": "code",
      "source": [
        "def missing_values_table(df):\n",
        "        # total missing values\n",
        "        mis_val = df.isnull().sum()\n",
        "        # percentage of missing values\n",
        "        mis_val_percent = 100 * df.isnull().sum() / len(df)\n",
        "        # make a table with the results\n",
        "        mis_val_table = pd.concat([mis_val, mis_val_percent], axis=1)\n",
        "        # rename the columns\n",
        "        mis_val_table_ren_columns = mis_val_table.rename(columns = {0 : 'Missing Values', 1 : '% of Total Values'})\n",
        "        # sort the table by percentage of missing descending\n",
        "        mis_val_table_ren_columns = mis_val_table_ren_columns[mis_val_table_ren_columns.iloc[:,1] != 0].sort_values('% of Total Values', ascending=False).round(1)\n",
        "        # print some summary information\n",
        "        print (\"Your selected dataframe has \" + str(df.shape[1]) + \" columns.\\n\" \"There are \" + str(mis_val_table_ren_columns.shape[0]) + \" columns that have missing values.\")\n",
        "        # return the dataframe with missing information\n",
        "        return mis_val_table_ren_columns"
      ],
      "metadata": {
        "id": "Ua1NDh6kFA0Z"
      },
      "execution_count": null,
      "outputs": []
    },
    {
      "cell_type": "code",
      "source": [
        "# menampilkan jumlah missing values\n",
        "missing_values = missing_values_table(df)\n",
        "missing_values.head(20)"
      ],
      "metadata": {
        "colab": {
          "base_uri": "https://localhost:8080/",
          "height": 711
        },
        "id": "-JlAlWsDDczQ",
        "outputId": "1d1c8b70-60a6-4b3d-d4fe-a771d09a46dd"
      },
      "execution_count": null,
      "outputs": [
        {
          "output_type": "stream",
          "name": "stdout",
          "text": [
            "Your selected dataframe has 122 columns.\n",
            "There are 67 columns that have missing values.\n"
          ]
        },
        {
          "output_type": "execute_result",
          "data": {
            "text/plain": [
              "                          Missing Values  % of Total Values\n",
              "COMMONAREA_MEDI                   214865               69.9\n",
              "COMMONAREA_AVG                    214865               69.9\n",
              "COMMONAREA_MODE                   214865               69.9\n",
              "NONLIVINGAPARTMENTS_MEDI          213514               69.4\n",
              "NONLIVINGAPARTMENTS_MODE          213514               69.4\n",
              "NONLIVINGAPARTMENTS_AVG           213514               69.4\n",
              "FONDKAPREMONT_MODE                210295               68.4\n",
              "LIVINGAPARTMENTS_MODE             210199               68.4\n",
              "LIVINGAPARTMENTS_MEDI             210199               68.4\n",
              "LIVINGAPARTMENTS_AVG              210199               68.4\n",
              "FLOORSMIN_MODE                    208642               67.8\n",
              "FLOORSMIN_MEDI                    208642               67.8\n",
              "FLOORSMIN_AVG                     208642               67.8\n",
              "YEARS_BUILD_MODE                  204488               66.5\n",
              "YEARS_BUILD_MEDI                  204488               66.5\n",
              "YEARS_BUILD_AVG                   204488               66.5\n",
              "OWN_CAR_AGE                       202929               66.0\n",
              "LANDAREA_AVG                      182590               59.4\n",
              "LANDAREA_MEDI                     182590               59.4\n",
              "LANDAREA_MODE                     182590               59.4"
            ],
            "text/html": [
              "\n",
              "  <div id=\"df-6c8b958d-1e12-4ce5-8b0c-2f3b6157554b\">\n",
              "    <div class=\"colab-df-container\">\n",
              "      <div>\n",
              "<style scoped>\n",
              "    .dataframe tbody tr th:only-of-type {\n",
              "        vertical-align: middle;\n",
              "    }\n",
              "\n",
              "    .dataframe tbody tr th {\n",
              "        vertical-align: top;\n",
              "    }\n",
              "\n",
              "    .dataframe thead th {\n",
              "        text-align: right;\n",
              "    }\n",
              "</style>\n",
              "<table border=\"1\" class=\"dataframe\">\n",
              "  <thead>\n",
              "    <tr style=\"text-align: right;\">\n",
              "      <th></th>\n",
              "      <th>Missing Values</th>\n",
              "      <th>% of Total Values</th>\n",
              "    </tr>\n",
              "  </thead>\n",
              "  <tbody>\n",
              "    <tr>\n",
              "      <th>COMMONAREA_MEDI</th>\n",
              "      <td>214865</td>\n",
              "      <td>69.9</td>\n",
              "    </tr>\n",
              "    <tr>\n",
              "      <th>COMMONAREA_AVG</th>\n",
              "      <td>214865</td>\n",
              "      <td>69.9</td>\n",
              "    </tr>\n",
              "    <tr>\n",
              "      <th>COMMONAREA_MODE</th>\n",
              "      <td>214865</td>\n",
              "      <td>69.9</td>\n",
              "    </tr>\n",
              "    <tr>\n",
              "      <th>NONLIVINGAPARTMENTS_MEDI</th>\n",
              "      <td>213514</td>\n",
              "      <td>69.4</td>\n",
              "    </tr>\n",
              "    <tr>\n",
              "      <th>NONLIVINGAPARTMENTS_MODE</th>\n",
              "      <td>213514</td>\n",
              "      <td>69.4</td>\n",
              "    </tr>\n",
              "    <tr>\n",
              "      <th>NONLIVINGAPARTMENTS_AVG</th>\n",
              "      <td>213514</td>\n",
              "      <td>69.4</td>\n",
              "    </tr>\n",
              "    <tr>\n",
              "      <th>FONDKAPREMONT_MODE</th>\n",
              "      <td>210295</td>\n",
              "      <td>68.4</td>\n",
              "    </tr>\n",
              "    <tr>\n",
              "      <th>LIVINGAPARTMENTS_MODE</th>\n",
              "      <td>210199</td>\n",
              "      <td>68.4</td>\n",
              "    </tr>\n",
              "    <tr>\n",
              "      <th>LIVINGAPARTMENTS_MEDI</th>\n",
              "      <td>210199</td>\n",
              "      <td>68.4</td>\n",
              "    </tr>\n",
              "    <tr>\n",
              "      <th>LIVINGAPARTMENTS_AVG</th>\n",
              "      <td>210199</td>\n",
              "      <td>68.4</td>\n",
              "    </tr>\n",
              "    <tr>\n",
              "      <th>FLOORSMIN_MODE</th>\n",
              "      <td>208642</td>\n",
              "      <td>67.8</td>\n",
              "    </tr>\n",
              "    <tr>\n",
              "      <th>FLOORSMIN_MEDI</th>\n",
              "      <td>208642</td>\n",
              "      <td>67.8</td>\n",
              "    </tr>\n",
              "    <tr>\n",
              "      <th>FLOORSMIN_AVG</th>\n",
              "      <td>208642</td>\n",
              "      <td>67.8</td>\n",
              "    </tr>\n",
              "    <tr>\n",
              "      <th>YEARS_BUILD_MODE</th>\n",
              "      <td>204488</td>\n",
              "      <td>66.5</td>\n",
              "    </tr>\n",
              "    <tr>\n",
              "      <th>YEARS_BUILD_MEDI</th>\n",
              "      <td>204488</td>\n",
              "      <td>66.5</td>\n",
              "    </tr>\n",
              "    <tr>\n",
              "      <th>YEARS_BUILD_AVG</th>\n",
              "      <td>204488</td>\n",
              "      <td>66.5</td>\n",
              "    </tr>\n",
              "    <tr>\n",
              "      <th>OWN_CAR_AGE</th>\n",
              "      <td>202929</td>\n",
              "      <td>66.0</td>\n",
              "    </tr>\n",
              "    <tr>\n",
              "      <th>LANDAREA_AVG</th>\n",
              "      <td>182590</td>\n",
              "      <td>59.4</td>\n",
              "    </tr>\n",
              "    <tr>\n",
              "      <th>LANDAREA_MEDI</th>\n",
              "      <td>182590</td>\n",
              "      <td>59.4</td>\n",
              "    </tr>\n",
              "    <tr>\n",
              "      <th>LANDAREA_MODE</th>\n",
              "      <td>182590</td>\n",
              "      <td>59.4</td>\n",
              "    </tr>\n",
              "  </tbody>\n",
              "</table>\n",
              "</div>\n",
              "      <button class=\"colab-df-convert\" onclick=\"convertToInteractive('df-6c8b958d-1e12-4ce5-8b0c-2f3b6157554b')\"\n",
              "              title=\"Convert this dataframe to an interactive table.\"\n",
              "              style=\"display:none;\">\n",
              "        \n",
              "  <svg xmlns=\"http://www.w3.org/2000/svg\" height=\"24px\"viewBox=\"0 0 24 24\"\n",
              "       width=\"24px\">\n",
              "    <path d=\"M0 0h24v24H0V0z\" fill=\"none\"/>\n",
              "    <path d=\"M18.56 5.44l.94 2.06.94-2.06 2.06-.94-2.06-.94-.94-2.06-.94 2.06-2.06.94zm-11 1L8.5 8.5l.94-2.06 2.06-.94-2.06-.94L8.5 2.5l-.94 2.06-2.06.94zm10 10l.94 2.06.94-2.06 2.06-.94-2.06-.94-.94-2.06-.94 2.06-2.06.94z\"/><path d=\"M17.41 7.96l-1.37-1.37c-.4-.4-.92-.59-1.43-.59-.52 0-1.04.2-1.43.59L10.3 9.45l-7.72 7.72c-.78.78-.78 2.05 0 2.83L4 21.41c.39.39.9.59 1.41.59.51 0 1.02-.2 1.41-.59l7.78-7.78 2.81-2.81c.8-.78.8-2.07 0-2.86zM5.41 20L4 18.59l7.72-7.72 1.47 1.35L5.41 20z\"/>\n",
              "  </svg>\n",
              "      </button>\n",
              "      \n",
              "  <style>\n",
              "    .colab-df-container {\n",
              "      display:flex;\n",
              "      flex-wrap:wrap;\n",
              "      gap: 12px;\n",
              "    }\n",
              "\n",
              "    .colab-df-convert {\n",
              "      background-color: #E8F0FE;\n",
              "      border: none;\n",
              "      border-radius: 50%;\n",
              "      cursor: pointer;\n",
              "      display: none;\n",
              "      fill: #1967D2;\n",
              "      height: 32px;\n",
              "      padding: 0 0 0 0;\n",
              "      width: 32px;\n",
              "    }\n",
              "\n",
              "    .colab-df-convert:hover {\n",
              "      background-color: #E2EBFA;\n",
              "      box-shadow: 0px 1px 2px rgba(60, 64, 67, 0.3), 0px 1px 3px 1px rgba(60, 64, 67, 0.15);\n",
              "      fill: #174EA6;\n",
              "    }\n",
              "\n",
              "    [theme=dark] .colab-df-convert {\n",
              "      background-color: #3B4455;\n",
              "      fill: #D2E3FC;\n",
              "    }\n",
              "\n",
              "    [theme=dark] .colab-df-convert:hover {\n",
              "      background-color: #434B5C;\n",
              "      box-shadow: 0px 1px 3px 1px rgba(0, 0, 0, 0.15);\n",
              "      filter: drop-shadow(0px 1px 2px rgba(0, 0, 0, 0.3));\n",
              "      fill: #FFFFFF;\n",
              "    }\n",
              "  </style>\n",
              "\n",
              "      <script>\n",
              "        const buttonEl =\n",
              "          document.querySelector('#df-6c8b958d-1e12-4ce5-8b0c-2f3b6157554b button.colab-df-convert');\n",
              "        buttonEl.style.display =\n",
              "          google.colab.kernel.accessAllowed ? 'block' : 'none';\n",
              "\n",
              "        async function convertToInteractive(key) {\n",
              "          const element = document.querySelector('#df-6c8b958d-1e12-4ce5-8b0c-2f3b6157554b');\n",
              "          const dataTable =\n",
              "            await google.colab.kernel.invokeFunction('convertToInteractive',\n",
              "                                                     [key], {});\n",
              "          if (!dataTable) return;\n",
              "\n",
              "          const docLinkHtml = 'Like what you see? Visit the ' +\n",
              "            '<a target=\"_blank\" href=https://colab.research.google.com/notebooks/data_table.ipynb>data table notebook</a>'\n",
              "            + ' to learn more about interactive tables.';\n",
              "          element.innerHTML = '';\n",
              "          dataTable['output_type'] = 'display_data';\n",
              "          await google.colab.output.renderOutput(dataTable, element);\n",
              "          const docLink = document.createElement('div');\n",
              "          docLink.innerHTML = docLinkHtml;\n",
              "          element.appendChild(docLink);\n",
              "        }\n",
              "      </script>\n",
              "    </div>\n",
              "  </div>\n",
              "  "
            ]
          },
          "metadata": {},
          "execution_count": 220
        }
      ]
    },
    {
      "cell_type": "markdown",
      "source": [
        "## **Feature Importance**\n",
        "Menentukan fitur atau kolom yang akan dipakai menggunakan Random Forest"
      ],
      "metadata": {
        "id": "PBqjSYSBv8LG"
      }
    },
    {
      "cell_type": "code",
      "source": [
        "tes = df"
      ],
      "metadata": {
        "id": "fqCubaljtZzn"
      },
      "execution_count": null,
      "outputs": []
    },
    {
      "cell_type": "code",
      "source": [
        "from sklearn import preprocessing\n",
        "categorical_feats = [\n",
        "    f for f in tes.columns if tes[f].dtype == 'object'\n",
        "]\n",
        "\n",
        "for col in categorical_feats:\n",
        "    lb = preprocessing.LabelEncoder()\n",
        "    lb.fit(list(tes[col].values.astype('str')))\n",
        "    tes[col] = lb.transform(list(tes[col].values.astype('str')))"
      ],
      "metadata": {
        "id": "aiO_SfHzDc4W"
      },
      "execution_count": null,
      "outputs": []
    },
    {
      "cell_type": "code",
      "source": [
        "tes.fillna(-999, inplace = True)"
      ],
      "metadata": {
        "id": "tLfeB3nfDdC8"
      },
      "execution_count": null,
      "outputs": []
    },
    {
      "cell_type": "code",
      "source": [
        "from sklearn.ensemble import RandomForestClassifier\n",
        "rf = RandomForestClassifier(n_estimators=50, max_depth=8, min_samples_leaf=4, max_features=0.5, random_state=2018)\n",
        "rf.fit(tes.drop(['SK_ID_CURR', 'TARGET'],axis=1), tes.TARGET)\n",
        "features = tes.drop(['SK_ID_CURR', 'TARGET'],axis=1).columns.values"
      ],
      "metadata": {
        "id": "nHN3QBNyDdLs"
      },
      "execution_count": null,
      "outputs": []
    },
    {
      "cell_type": "code",
      "source": [
        "import plotly.graph_objs as go\n",
        "import plotly.offline as py\n",
        "\n",
        "x, y = (list(x) for x in zip(*sorted(zip(rf.feature_importances_, features), \n",
        "                                                            reverse = False)))\n",
        "trace2 = go.Bar(\n",
        "    x=x ,\n",
        "    y=y,\n",
        "    marker=dict(\n",
        "        color=x,\n",
        "        colorscale = 'Viridis',\n",
        "        reversescale = True\n",
        "    ),\n",
        "    name='Random Forest Feature importance',\n",
        "    orientation='h',\n",
        ")\n",
        "\n",
        "layout = dict(\n",
        "    title='Barplot of Feature importances',\n",
        "     width = 900, height = 2000,\n",
        "    yaxis=dict(\n",
        "        showgrid=False,\n",
        "        showline=False,\n",
        "        showticklabels=True,\n",
        "#         domain=[0, 0.85],\n",
        "    ),\n",
        "    margin=dict(\n",
        "    l=300,\n",
        "),\n",
        ")\n",
        "\n",
        "fig1 = go.Figure(data=[trace2])\n",
        "fig1['layout'].update(layout)\n",
        "py.iplot(fig1, filename='plots')"
      ],
      "metadata": {
        "id": "IP2ztd-IyLoR",
        "colab": {
          "base_uri": "https://localhost:8080/",
          "height": 1000
        },
        "outputId": "1024c873-a3e9-4b98-aa52-d15c0a3b4792"
      },
      "execution_count": null,
      "outputs": [
        {
          "output_type": "display_data",
          "data": {
            "text/html": [
              "<html>\n",
              "<head><meta charset=\"utf-8\" /></head>\n",
              "<body>\n",
              "    <div>            <script src=\"https://cdnjs.cloudflare.com/ajax/libs/mathjax/2.7.5/MathJax.js?config=TeX-AMS-MML_SVG\"></script><script type=\"text/javascript\">if (window.MathJax) {MathJax.Hub.Config({SVG: {font: \"STIX-Web\"}});}</script>                <script type=\"text/javascript\">window.PlotlyConfig = {MathJaxConfig: 'local'};</script>\n",
              "        <script src=\"https://cdn.plot.ly/plotly-2.8.3.min.js\"></script>                <div id=\"4d05025c-9837-47fe-8956-7948d8655877\" class=\"plotly-graph-div\" style=\"height:2000px; width:900px;\"></div>            <script type=\"text/javascript\">                                    window.PLOTLYENV=window.PLOTLYENV || {};                                    if (document.getElementById(\"4d05025c-9837-47fe-8956-7948d8655877\")) {                    Plotly.newPlot(                        \"4d05025c-9837-47fe-8956-7948d8655877\",                        [{\"marker\":{\"color\":[0.0,0.0,0.0,0.0,0.0,0.0,0.0,0.0,5.101359206665722e-06,5.213677860295232e-06,2.044572035551303e-05,2.4050071766215622e-05,3.5307014277922194e-05,6.121748948751596e-05,6.769658285340453e-05,6.922252074301911e-05,7.53156269192041e-05,7.618332737369673e-05,8.463359890214687e-05,9.87984412897905e-05,0.00011863507960809883,0.0001590756459422804,0.00016354617529195685,0.00017888568403774067,0.0001974076792866877,0.00021641535661047278,0.00024711145190614526,0.00025684299876975377,0.0002683070362369009,0.00027539173101926524,0.000295671982235487,0.00031503807995800714,0.0003241252426238301,0.0003729869168867225,0.0003863300618185391,0.00040948004263012663,0.0004117649232842858,0.0004284725099353077,0.0004344026902288533,0.00045534891016151013,0.0004619727649990358,0.0005081158753816677,0.0005261974423492434,0.00056034000842036,0.0005680027952327789,0.000590782813539098,0.0006273745616890564,0.0006519919766965922,0.0006655432294436672,0.0006879627831929511,0.0007302834822205069,0.0007372302687695203,0.000797877836253331,0.0008073548523159724,0.0008084602402133852,0.0008160474357479535,0.0008251482400163275,0.0008426110902417829,0.0008464451481351796,0.000856993846192469,0.0008988581297894563,0.0008989376821326934,0.0009223034785278095,0.0009286490275543434,0.0009543579506556054,0.001005182242569431,0.0010124933177680592,0.0010446230559740402,0.0010576551383891905,0.0011056863671950635,0.0011092565459679198,0.001158733683045398,0.0012061429781810532,0.0012107221868592087,0.0012182653117884799,0.001245416801942665,0.0012458182941962439,0.0012782249781206065,0.0012833856895305875,0.0013105486993418658,0.0013255864944093968,0.0013435342300888225,0.0013511545673000696,0.0013602346251402695,0.001406451329362782,0.0015151462630063706,0.0015338079514602163,0.0015509596241503546,0.0016432474802206673,0.001654537840269565,0.0016661825390684479,0.001705976605412035,0.0018527988901164316,0.001972989972276409,0.0020569990992417254,0.002181774002851694,0.002542063998512352,0.0025431403655753805,0.0028759567817206854,0.002962245727105269,0.003299042837918126,0.004262510756083921,0.004313383694274827,0.0043405735587670816,0.005272047573114924,0.005487385673487267,0.006522733296994654,0.0082699003235322,0.010896207623062662,0.01133385292164267,0.012101891331602445,0.013524513828676667,0.013986395986724284,0.01411776998284418,0.017310981920926564,0.020623977637113967,0.04809405656301744,0.07072793408786471,0.3049815744823461,0.3409380536526285],\"colorscale\":[[0.0,\"#440154\"],[0.1111111111111111,\"#482878\"],[0.2222222222222222,\"#3e4989\"],[0.3333333333333333,\"#31688e\"],[0.4444444444444444,\"#26828e\"],[0.5555555555555556,\"#1f9e89\"],[0.6666666666666666,\"#35b779\"],[0.7777777777777778,\"#6ece58\"],[0.8888888888888888,\"#b5de2b\"],[1.0,\"#fde725\"]],\"reversescale\":true},\"name\":\"Random Forest Feature importance\",\"orientation\":\"h\",\"x\":[0.0,0.0,0.0,0.0,0.0,0.0,0.0,0.0,5.101359206665722e-06,5.213677860295232e-06,2.044572035551303e-05,2.4050071766215622e-05,3.5307014277922194e-05,6.121748948751596e-05,6.769658285340453e-05,6.922252074301911e-05,7.53156269192041e-05,7.618332737369673e-05,8.463359890214687e-05,9.87984412897905e-05,0.00011863507960809883,0.0001590756459422804,0.00016354617529195685,0.00017888568403774067,0.0001974076792866877,0.00021641535661047278,0.00024711145190614526,0.00025684299876975377,0.0002683070362369009,0.00027539173101926524,0.000295671982235487,0.00031503807995800714,0.0003241252426238301,0.0003729869168867225,0.0003863300618185391,0.00040948004263012663,0.0004117649232842858,0.0004284725099353077,0.0004344026902288533,0.00045534891016151013,0.0004619727649990358,0.0005081158753816677,0.0005261974423492434,0.00056034000842036,0.0005680027952327789,0.000590782813539098,0.0006273745616890564,0.0006519919766965922,0.0006655432294436672,0.0006879627831929511,0.0007302834822205069,0.0007372302687695203,0.000797877836253331,0.0008073548523159724,0.0008084602402133852,0.0008160474357479535,0.0008251482400163275,0.0008426110902417829,0.0008464451481351796,0.000856993846192469,0.0008988581297894563,0.0008989376821326934,0.0009223034785278095,0.0009286490275543434,0.0009543579506556054,0.001005182242569431,0.0010124933177680592,0.0010446230559740402,0.0010576551383891905,0.0011056863671950635,0.0011092565459679198,0.001158733683045398,0.0012061429781810532,0.0012107221868592087,0.0012182653117884799,0.001245416801942665,0.0012458182941962439,0.0012782249781206065,0.0012833856895305875,0.0013105486993418658,0.0013255864944093968,0.0013435342300888225,0.0013511545673000696,0.0013602346251402695,0.001406451329362782,0.0015151462630063706,0.0015338079514602163,0.0015509596241503546,0.0016432474802206673,0.001654537840269565,0.0016661825390684479,0.001705976605412035,0.0018527988901164316,0.001972989972276409,0.0020569990992417254,0.002181774002851694,0.002542063998512352,0.0025431403655753805,0.0028759567817206854,0.002962245727105269,0.003299042837918126,0.004262510756083921,0.004313383694274827,0.0043405735587670816,0.005272047573114924,0.005487385673487267,0.006522733296994654,0.0082699003235322,0.010896207623062662,0.01133385292164267,0.012101891331602445,0.013524513828676667,0.013986395986724284,0.01411776998284418,0.017310981920926564,0.020623977637113967,0.04809405656301744,0.07072793408786471,0.3049815744823461,0.3409380536526285],\"y\":[\"FLAG_DOCUMENT_10\",\"FLAG_DOCUMENT_12\",\"FLAG_DOCUMENT_13\",\"FLAG_DOCUMENT_17\",\"FLAG_DOCUMENT_20\",\"FLAG_DOCUMENT_21\",\"FLAG_DOCUMENT_4\",\"FLAG_MOBIL\",\"FLAG_DOCUMENT_15\",\"FLAG_DOCUMENT_7\",\"FLAG_DOCUMENT_11\",\"FLAG_DOCUMENT_18\",\"FLAG_DOCUMENT_2\",\"FLAG_DOCUMENT_8\",\"FLAG_CONT_MOBILE\",\"FLAG_DOCUMENT_16\",\"LIVE_CITY_NOT_WORK_CITY\",\"FLAG_DOCUMENT_19\",\"LIVE_REGION_NOT_WORK_REGION\",\"FLAG_DOCUMENT_14\",\"FLAG_DOCUMENT_9\",\"REG_REGION_NOT_WORK_REGION\",\"EMERGENCYSTATE_MODE\",\"FLAG_DOCUMENT_5\",\"REG_REGION_NOT_LIVE_REGION\",\"FONDKAPREMONT_MODE\",\"ELEVATORS_MEDI\",\"FLAG_EMAIL\",\"AMT_REQ_CREDIT_BUREAU_HOUR\",\"FLAG_DOCUMENT_6\",\"FLAG_PHONE\",\"ELEVATORS_AVG\",\"FLAG_OWN_REALTY\",\"FLAG_WORK_PHONE\",\"YEARS_BUILD_MEDI\",\"REG_CITY_NOT_WORK_CITY\",\"FLOORSMAX_MODE\",\"FLOORSMIN_MODE\",\"ENTRANCES_MODE\",\"WALLSMATERIAL_MODE\",\"NONLIVINGAPARTMENTS_MEDI\",\"FLOORSMIN_MEDI\",\"FLOORSMIN_AVG\",\"ELEVATORS_MODE\",\"FLOORSMAX_MEDI\",\"YEARS_BUILD_MODE\",\"LIVINGAPARTMENTS_AVG\",\"NAME_TYPE_SUITE\",\"YEARS_BUILD_AVG\",\"COMMONAREA_MEDI\",\"COMMONAREA_AVG\",\"HOUSETYPE_MODE\",\"ENTRANCES_AVG\",\"BASEMENTAREA_MEDI\",\"LIVINGAPARTMENTS_MEDI\",\"BASEMENTAREA_AVG\",\"FLOORSMAX_AVG\",\"NAME_CONTRACT_TYPE\",\"NONLIVINGAPARTMENTS_AVG\",\"ENTRANCES_MEDI\",\"LIVINGAPARTMENTS_MODE\",\"CNT_CHILDREN\",\"AMT_REQ_CREDIT_BUREAU_WEEK\",\"NONLIVINGAREA_MEDI\",\"APARTMENTS_MEDI\",\"AMT_REQ_CREDIT_BUREAU_QRT\",\"APARTMENTS_AVG\",\"AMT_REQ_CREDIT_BUREAU_MON\",\"NONLIVINGAPARTMENTS_MODE\",\"AMT_REQ_CREDIT_BUREAU_DAY\",\"WEEKDAY_APPR_PROCESS_START\",\"NONLIVINGAREA_AVG\",\"YEARS_BEGINEXPLUATATION_MEDI\",\"LANDAREA_MODE\",\"YEARS_BEGINEXPLUATATION_MODE\",\"NONLIVINGAREA_MODE\",\"BASEMENTAREA_MODE\",\"FLAG_OWN_CAR\",\"APARTMENTS_MODE\",\"CNT_FAM_MEMBERS\",\"COMMONAREA_MODE\",\"REGION_RATING_CLIENT_W_CITY\",\"REGION_RATING_CLIENT\",\"LANDAREA_MEDI\",\"FLAG_EMP_PHONE\",\"YEARS_BEGINEXPLUATATION_AVG\",\"LIVINGAREA_MEDI\",\"NAME_HOUSING_TYPE\",\"LIVINGAREA_MODE\",\"LIVINGAREA_AVG\",\"LANDAREA_AVG\",\"NAME_FAMILY_STATUS\",\"OBS_30_CNT_SOCIAL_CIRCLE\",\"REG_CITY_NOT_LIVE_CITY\",\"OCCUPATION_TYPE\",\"OBS_60_CNT_SOCIAL_CIRCLE\",\"TOTALAREA_MODE\",\"DEF_60_CNT_SOCIAL_CIRCLE\",\"DEF_30_CNT_SOCIAL_CIRCLE\",\"AMT_REQ_CREDIT_BUREAU_YEAR\",\"HOUR_APPR_PROCESS_START\",\"OWN_CAR_AGE\",\"REGION_POPULATION_RELATIVE\",\"AMT_INCOME_TOTAL\",\"FLAG_DOCUMENT_3\",\"DAYS_LAST_PHONE_CHANGE\",\"ORGANIZATION_TYPE\",\"NAME_INCOME_TYPE\",\"AMT_CREDIT\",\"DAYS_REGISTRATION\",\"AMT_GOODS_PRICE\",\"CODE_GENDER\",\"DAYS_ID_PUBLISH\",\"AMT_ANNUITY\",\"NAME_EDUCATION_TYPE\",\"DAYS_EMPLOYED\",\"DAYS_BIRTH\",\"EXT_SOURCE_1\",\"EXT_SOURCE_3\",\"EXT_SOURCE_2\"],\"type\":\"bar\"}],                        {\"height\":2000,\"margin\":{\"l\":300},\"template\":{\"data\":{\"barpolar\":[{\"marker\":{\"line\":{\"color\":\"#E5ECF6\",\"width\":0.5},\"pattern\":{\"fillmode\":\"overlay\",\"size\":10,\"solidity\":0.2}},\"type\":\"barpolar\"}],\"bar\":[{\"error_x\":{\"color\":\"#2a3f5f\"},\"error_y\":{\"color\":\"#2a3f5f\"},\"marker\":{\"line\":{\"color\":\"#E5ECF6\",\"width\":0.5},\"pattern\":{\"fillmode\":\"overlay\",\"size\":10,\"solidity\":0.2}},\"type\":\"bar\"}],\"carpet\":[{\"aaxis\":{\"endlinecolor\":\"#2a3f5f\",\"gridcolor\":\"white\",\"linecolor\":\"white\",\"minorgridcolor\":\"white\",\"startlinecolor\":\"#2a3f5f\"},\"baxis\":{\"endlinecolor\":\"#2a3f5f\",\"gridcolor\":\"white\",\"linecolor\":\"white\",\"minorgridcolor\":\"white\",\"startlinecolor\":\"#2a3f5f\"},\"type\":\"carpet\"}],\"choropleth\":[{\"colorbar\":{\"outlinewidth\":0,\"ticks\":\"\"},\"type\":\"choropleth\"}],\"contourcarpet\":[{\"colorbar\":{\"outlinewidth\":0,\"ticks\":\"\"},\"type\":\"contourcarpet\"}],\"contour\":[{\"colorbar\":{\"outlinewidth\":0,\"ticks\":\"\"},\"colorscale\":[[0.0,\"#0d0887\"],[0.1111111111111111,\"#46039f\"],[0.2222222222222222,\"#7201a8\"],[0.3333333333333333,\"#9c179e\"],[0.4444444444444444,\"#bd3786\"],[0.5555555555555556,\"#d8576b\"],[0.6666666666666666,\"#ed7953\"],[0.7777777777777778,\"#fb9f3a\"],[0.8888888888888888,\"#fdca26\"],[1.0,\"#f0f921\"]],\"type\":\"contour\"}],\"heatmapgl\":[{\"colorbar\":{\"outlinewidth\":0,\"ticks\":\"\"},\"colorscale\":[[0.0,\"#0d0887\"],[0.1111111111111111,\"#46039f\"],[0.2222222222222222,\"#7201a8\"],[0.3333333333333333,\"#9c179e\"],[0.4444444444444444,\"#bd3786\"],[0.5555555555555556,\"#d8576b\"],[0.6666666666666666,\"#ed7953\"],[0.7777777777777778,\"#fb9f3a\"],[0.8888888888888888,\"#fdca26\"],[1.0,\"#f0f921\"]],\"type\":\"heatmapgl\"}],\"heatmap\":[{\"colorbar\":{\"outlinewidth\":0,\"ticks\":\"\"},\"colorscale\":[[0.0,\"#0d0887\"],[0.1111111111111111,\"#46039f\"],[0.2222222222222222,\"#7201a8\"],[0.3333333333333333,\"#9c179e\"],[0.4444444444444444,\"#bd3786\"],[0.5555555555555556,\"#d8576b\"],[0.6666666666666666,\"#ed7953\"],[0.7777777777777778,\"#fb9f3a\"],[0.8888888888888888,\"#fdca26\"],[1.0,\"#f0f921\"]],\"type\":\"heatmap\"}],\"histogram2dcontour\":[{\"colorbar\":{\"outlinewidth\":0,\"ticks\":\"\"},\"colorscale\":[[0.0,\"#0d0887\"],[0.1111111111111111,\"#46039f\"],[0.2222222222222222,\"#7201a8\"],[0.3333333333333333,\"#9c179e\"],[0.4444444444444444,\"#bd3786\"],[0.5555555555555556,\"#d8576b\"],[0.6666666666666666,\"#ed7953\"],[0.7777777777777778,\"#fb9f3a\"],[0.8888888888888888,\"#fdca26\"],[1.0,\"#f0f921\"]],\"type\":\"histogram2dcontour\"}],\"histogram2d\":[{\"colorbar\":{\"outlinewidth\":0,\"ticks\":\"\"},\"colorscale\":[[0.0,\"#0d0887\"],[0.1111111111111111,\"#46039f\"],[0.2222222222222222,\"#7201a8\"],[0.3333333333333333,\"#9c179e\"],[0.4444444444444444,\"#bd3786\"],[0.5555555555555556,\"#d8576b\"],[0.6666666666666666,\"#ed7953\"],[0.7777777777777778,\"#fb9f3a\"],[0.8888888888888888,\"#fdca26\"],[1.0,\"#f0f921\"]],\"type\":\"histogram2d\"}],\"histogram\":[{\"marker\":{\"pattern\":{\"fillmode\":\"overlay\",\"size\":10,\"solidity\":0.2}},\"type\":\"histogram\"}],\"mesh3d\":[{\"colorbar\":{\"outlinewidth\":0,\"ticks\":\"\"},\"type\":\"mesh3d\"}],\"parcoords\":[{\"line\":{\"colorbar\":{\"outlinewidth\":0,\"ticks\":\"\"}},\"type\":\"parcoords\"}],\"pie\":[{\"automargin\":true,\"type\":\"pie\"}],\"scatter3d\":[{\"line\":{\"colorbar\":{\"outlinewidth\":0,\"ticks\":\"\"}},\"marker\":{\"colorbar\":{\"outlinewidth\":0,\"ticks\":\"\"}},\"type\":\"scatter3d\"}],\"scattercarpet\":[{\"marker\":{\"colorbar\":{\"outlinewidth\":0,\"ticks\":\"\"}},\"type\":\"scattercarpet\"}],\"scattergeo\":[{\"marker\":{\"colorbar\":{\"outlinewidth\":0,\"ticks\":\"\"}},\"type\":\"scattergeo\"}],\"scattergl\":[{\"marker\":{\"colorbar\":{\"outlinewidth\":0,\"ticks\":\"\"}},\"type\":\"scattergl\"}],\"scattermapbox\":[{\"marker\":{\"colorbar\":{\"outlinewidth\":0,\"ticks\":\"\"}},\"type\":\"scattermapbox\"}],\"scatterpolargl\":[{\"marker\":{\"colorbar\":{\"outlinewidth\":0,\"ticks\":\"\"}},\"type\":\"scatterpolargl\"}],\"scatterpolar\":[{\"marker\":{\"colorbar\":{\"outlinewidth\":0,\"ticks\":\"\"}},\"type\":\"scatterpolar\"}],\"scatter\":[{\"marker\":{\"colorbar\":{\"outlinewidth\":0,\"ticks\":\"\"}},\"type\":\"scatter\"}],\"scatterternary\":[{\"marker\":{\"colorbar\":{\"outlinewidth\":0,\"ticks\":\"\"}},\"type\":\"scatterternary\"}],\"surface\":[{\"colorbar\":{\"outlinewidth\":0,\"ticks\":\"\"},\"colorscale\":[[0.0,\"#0d0887\"],[0.1111111111111111,\"#46039f\"],[0.2222222222222222,\"#7201a8\"],[0.3333333333333333,\"#9c179e\"],[0.4444444444444444,\"#bd3786\"],[0.5555555555555556,\"#d8576b\"],[0.6666666666666666,\"#ed7953\"],[0.7777777777777778,\"#fb9f3a\"],[0.8888888888888888,\"#fdca26\"],[1.0,\"#f0f921\"]],\"type\":\"surface\"}],\"table\":[{\"cells\":{\"fill\":{\"color\":\"#EBF0F8\"},\"line\":{\"color\":\"white\"}},\"header\":{\"fill\":{\"color\":\"#C8D4E3\"},\"line\":{\"color\":\"white\"}},\"type\":\"table\"}]},\"layout\":{\"annotationdefaults\":{\"arrowcolor\":\"#2a3f5f\",\"arrowhead\":0,\"arrowwidth\":1},\"autotypenumbers\":\"strict\",\"coloraxis\":{\"colorbar\":{\"outlinewidth\":0,\"ticks\":\"\"}},\"colorscale\":{\"diverging\":[[0,\"#8e0152\"],[0.1,\"#c51b7d\"],[0.2,\"#de77ae\"],[0.3,\"#f1b6da\"],[0.4,\"#fde0ef\"],[0.5,\"#f7f7f7\"],[0.6,\"#e6f5d0\"],[0.7,\"#b8e186\"],[0.8,\"#7fbc41\"],[0.9,\"#4d9221\"],[1,\"#276419\"]],\"sequential\":[[0.0,\"#0d0887\"],[0.1111111111111111,\"#46039f\"],[0.2222222222222222,\"#7201a8\"],[0.3333333333333333,\"#9c179e\"],[0.4444444444444444,\"#bd3786\"],[0.5555555555555556,\"#d8576b\"],[0.6666666666666666,\"#ed7953\"],[0.7777777777777778,\"#fb9f3a\"],[0.8888888888888888,\"#fdca26\"],[1.0,\"#f0f921\"]],\"sequentialminus\":[[0.0,\"#0d0887\"],[0.1111111111111111,\"#46039f\"],[0.2222222222222222,\"#7201a8\"],[0.3333333333333333,\"#9c179e\"],[0.4444444444444444,\"#bd3786\"],[0.5555555555555556,\"#d8576b\"],[0.6666666666666666,\"#ed7953\"],[0.7777777777777778,\"#fb9f3a\"],[0.8888888888888888,\"#fdca26\"],[1.0,\"#f0f921\"]]},\"colorway\":[\"#636efa\",\"#EF553B\",\"#00cc96\",\"#ab63fa\",\"#FFA15A\",\"#19d3f3\",\"#FF6692\",\"#B6E880\",\"#FF97FF\",\"#FECB52\"],\"font\":{\"color\":\"#2a3f5f\"},\"geo\":{\"bgcolor\":\"white\",\"lakecolor\":\"white\",\"landcolor\":\"#E5ECF6\",\"showlakes\":true,\"showland\":true,\"subunitcolor\":\"white\"},\"hoverlabel\":{\"align\":\"left\"},\"hovermode\":\"closest\",\"mapbox\":{\"style\":\"light\"},\"paper_bgcolor\":\"white\",\"plot_bgcolor\":\"#E5ECF6\",\"polar\":{\"angularaxis\":{\"gridcolor\":\"white\",\"linecolor\":\"white\",\"ticks\":\"\"},\"bgcolor\":\"#E5ECF6\",\"radialaxis\":{\"gridcolor\":\"white\",\"linecolor\":\"white\",\"ticks\":\"\"}},\"scene\":{\"xaxis\":{\"backgroundcolor\":\"#E5ECF6\",\"gridcolor\":\"white\",\"gridwidth\":2,\"linecolor\":\"white\",\"showbackground\":true,\"ticks\":\"\",\"zerolinecolor\":\"white\"},\"yaxis\":{\"backgroundcolor\":\"#E5ECF6\",\"gridcolor\":\"white\",\"gridwidth\":2,\"linecolor\":\"white\",\"showbackground\":true,\"ticks\":\"\",\"zerolinecolor\":\"white\"},\"zaxis\":{\"backgroundcolor\":\"#E5ECF6\",\"gridcolor\":\"white\",\"gridwidth\":2,\"linecolor\":\"white\",\"showbackground\":true,\"ticks\":\"\",\"zerolinecolor\":\"white\"}},\"shapedefaults\":{\"line\":{\"color\":\"#2a3f5f\"}},\"ternary\":{\"aaxis\":{\"gridcolor\":\"white\",\"linecolor\":\"white\",\"ticks\":\"\"},\"baxis\":{\"gridcolor\":\"white\",\"linecolor\":\"white\",\"ticks\":\"\"},\"bgcolor\":\"#E5ECF6\",\"caxis\":{\"gridcolor\":\"white\",\"linecolor\":\"white\",\"ticks\":\"\"}},\"title\":{\"x\":0.05},\"xaxis\":{\"automargin\":true,\"gridcolor\":\"white\",\"linecolor\":\"white\",\"ticks\":\"\",\"title\":{\"standoff\":15},\"zerolinecolor\":\"white\",\"zerolinewidth\":2},\"yaxis\":{\"automargin\":true,\"gridcolor\":\"white\",\"linecolor\":\"white\",\"ticks\":\"\",\"title\":{\"standoff\":15},\"zerolinecolor\":\"white\",\"zerolinewidth\":2}}},\"title\":{\"text\":\"Barplot of Feature importances\"},\"width\":900,\"yaxis\":{\"showgrid\":false,\"showline\":false,\"showticklabels\":true}},                        {\"responsive\": true}                    ).then(function(){\n",
              "                            \n",
              "var gd = document.getElementById('4d05025c-9837-47fe-8956-7948d8655877');\n",
              "var x = new MutationObserver(function (mutations, observer) {{\n",
              "        var display = window.getComputedStyle(gd).display;\n",
              "        if (!display || display === 'none') {{\n",
              "            console.log([gd, 'removed!']);\n",
              "            Plotly.purge(gd);\n",
              "            observer.disconnect();\n",
              "        }}\n",
              "}});\n",
              "\n",
              "// Listen for the removal of the full notebook cells\n",
              "var notebookContainer = gd.closest('#notebook-container');\n",
              "if (notebookContainer) {{\n",
              "    x.observe(notebookContainer, {childList: true});\n",
              "}}\n",
              "\n",
              "// Listen for the clearing of the current output cell\n",
              "var outputEl = gd.closest('.output');\n",
              "if (outputEl) {{\n",
              "    x.observe(outputEl, {childList: true});\n",
              "}}\n",
              "\n",
              "                        })                };                            </script>        </div>\n",
              "</body>\n",
              "</html>"
            ]
          },
          "metadata": {}
        }
      ]
    },
    {
      "cell_type": "code",
      "source": [
        "# dari nilai fitur yang tercantum kita akan memilih 15 fitur terbaik\n",
        "fitur = ['TARGET', 'EXT_SOURCE_1', 'EXT_SOURCE_2', 'EXT_SOURCE_3', 'DAYS_BIRTH', 'DAYS_EMPLOYED','NAME_INCOME_TYPE', 'NAME_EDUCATION_TYPE', 'AMT_ANNUITY', 'DAYS_ID_PUBLISH', 'CODE_GENDER', 'AMT_CREDIT', 'AMT_GOODS_PRICE', 'DAYS_REGISTRATION', 'ORGANIZATION_TYPE', 'DAYS_LAST_PHONE_CHANGE']\n",
        "df_fix = df[fitur]"
      ],
      "metadata": {
        "id": "P6ubXEUNwqKY"
      },
      "execution_count": null,
      "outputs": []
    },
    {
      "cell_type": "code",
      "source": [
        "# visualisasi heatmap\n",
        "sns.heatmap(df_fix.corr(),cmap=\"Oranges\")"
      ],
      "metadata": {
        "colab": {
          "base_uri": "https://localhost:8080/",
          "height": 420
        },
        "id": "G0-kZw-_2EPa",
        "outputId": "3d7b8731-2dd6-49bb-ee35-7a21b8e570be"
      },
      "execution_count": null,
      "outputs": [
        {
          "output_type": "execute_result",
          "data": {
            "text/plain": [
              "<matplotlib.axes._subplots.AxesSubplot at 0x7f37d7a46d60>"
            ]
          },
          "metadata": {},
          "execution_count": 257
        },
        {
          "output_type": "display_data",
          "data": {
            "text/plain": [
              "<Figure size 432x288 with 2 Axes>"
            ],
            "image/png": "[encoded data removed]"
          },
          "metadata": {
            "needs_background": "light"
          }
        }
      ]
    },
    {
      "cell_type": "code",
      "source": [
        "df_fix.info()"
      ],
      "metadata": {
        "colab": {
          "base_uri": "https://localhost:8080/"
        },
        "id": "ihGSuzsT-op4",
        "outputId": "2e5c707c-4981-401f-8d46-7c3f016f5a22"
      },
      "execution_count": null,
      "outputs": [
        {
          "output_type": "stream",
          "name": "stdout",
          "text": [
            "<class 'pandas.core.frame.DataFrame'>\n",
            "RangeIndex: 307511 entries, 0 to 307510\n",
            "Data columns (total 16 columns):\n",
            " #   Column                  Non-Null Count   Dtype  \n",
            "---  ------                  --------------   -----  \n",
            " 0   TARGET                  307511 non-null  int64  \n",
            " 1   EXT_SOURCE_1            134133 non-null  float64\n",
            " 2   EXT_SOURCE_2            306851 non-null  float64\n",
            " 3   EXT_SOURCE_3            246546 non-null  float64\n",
            " 4   DAYS_BIRTH              307511 non-null  int64  \n",
            " 5   DAYS_EMPLOYED           307511 non-null  int64  \n",
            " 6   NAME_INCOME_TYPE        307511 non-null  object \n",
            " 7   NAME_EDUCATION_TYPE     307511 non-null  object \n",
            " 8   AMT_ANNUITY             307499 non-null  float64\n",
            " 9   DAYS_ID_PUBLISH         307511 non-null  int64  \n",
            " 10  CODE_GENDER             307511 non-null  object \n",
            " 11  AMT_CREDIT              307511 non-null  float64\n",
            " 12  AMT_GOODS_PRICE         307233 non-null  float64\n",
            " 13  DAYS_REGISTRATION       307511 non-null  float64\n",
            " 14  ORGANIZATION_TYPE       307511 non-null  object \n",
            " 15  DAYS_LAST_PHONE_CHANGE  307510 non-null  float64\n",
            "dtypes: float64(8), int64(4), object(4)\n",
            "memory usage: 37.5+ MB\n"
          ]
        }
      ]
    },
    {
      "cell_type": "code",
      "source": [
        "df_fix.isnull().sum()"
      ],
      "metadata": {
        "colab": {
          "base_uri": "https://localhost:8080/"
        },
        "id": "y2bPzUCzCYvr",
        "outputId": "b9c4c5d4-f76e-40eb-e7a3-366366cfa723"
      },
      "execution_count": null,
      "outputs": [
        {
          "output_type": "execute_result",
          "data": {
            "text/plain": [
              "TARGET                         0\n",
              "EXT_SOURCE_1              173378\n",
              "EXT_SOURCE_2                 660\n",
              "EXT_SOURCE_3               60965\n",
              "DAYS_BIRTH                     0\n",
              "DAYS_EMPLOYED                  0\n",
              "NAME_INCOME_TYPE               0\n",
              "NAME_EDUCATION_TYPE            0\n",
              "AMT_ANNUITY                   12\n",
              "DAYS_ID_PUBLISH                0\n",
              "CODE_GENDER                    0\n",
              "AMT_CREDIT                     0\n",
              "AMT_GOODS_PRICE              278\n",
              "DAYS_REGISTRATION              0\n",
              "ORGANIZATION_TYPE              0\n",
              "DAYS_LAST_PHONE_CHANGE         1\n",
              "dtype: int64"
            ]
          },
          "metadata": {},
          "execution_count": 259
        }
      ]
    },
    {
      "cell_type": "code",
      "source": [
        "df_fix.apply(pd.Series.nunique, axis = 0)"
      ],
      "metadata": {
        "colab": {
          "base_uri": "https://localhost:8080/"
        },
        "id": "DGgkyODi5REK",
        "outputId": "93a4f487-f056-4c90-d83f-5325d925de88"
      },
      "execution_count": null,
      "outputs": [
        {
          "output_type": "execute_result",
          "data": {
            "text/plain": [
              "TARGET                         2\n",
              "EXT_SOURCE_1              114584\n",
              "EXT_SOURCE_2              119831\n",
              "EXT_SOURCE_3                 814\n",
              "DAYS_BIRTH                 17460\n",
              "DAYS_EMPLOYED              12574\n",
              "NAME_INCOME_TYPE               8\n",
              "NAME_EDUCATION_TYPE            5\n",
              "AMT_ANNUITY                13672\n",
              "DAYS_ID_PUBLISH             6168\n",
              "CODE_GENDER                    3\n",
              "AMT_CREDIT                  5603\n",
              "AMT_GOODS_PRICE             1002\n",
              "DAYS_REGISTRATION          15688\n",
              "ORGANIZATION_TYPE             58\n",
              "DAYS_LAST_PHONE_CHANGE      3773\n",
              "dtype: int64"
            ]
          },
          "metadata": {},
          "execution_count": 260
        }
      ]
    },
    {
      "cell_type": "code",
      "source": [
        "# melakukan on hot untuk kolom kategorikal yang memliki > 2 uniq kategori\n",
        "columns = ['CODE_GENDER', 'NAME_INCOME_TYPE', 'NAME_EDUCATION_TYPE', 'ORGANIZATION_TYPE']\n",
        "\n",
        "def create_one_hot(df_fix, columns):\n",
        "    for column in columns:\n",
        "        df_fix = pd.concat([df_fix, pd.get_dummies(df[column])], axis=1, join='inner')\n",
        "        df_fix = df_fix.drop([column], axis=1)\n",
        "    \n",
        "    return df_fix\n",
        "\n",
        "df_fix = create_one_hot(df_fix, columns)"
      ],
      "metadata": {
        "id": "OxHcN6rP5qHg"
      },
      "execution_count": null,
      "outputs": []
    },
    {
      "cell_type": "code",
      "source": [
        "# fill null data\n",
        "df_fix.loc[:,'DAYS_LAST_PHONE_CHANGE'] = df_fix['DAYS_LAST_PHONE_CHANGE'].fillna(df_fix['DAYS_LAST_PHONE_CHANGE'].mean())\n",
        "df_fix.loc[:,'AMT_GOODS_PRICE'] = df_fix['AMT_GOODS_PRICE'].fillna(df_fix['AMT_GOODS_PRICE'].mean())\n",
        "df_fix.loc[:,'AMT_ANNUITY'] = df_fix['AMT_ANNUITY'].fillna(df_fix['AMT_ANNUITY'].mean())\n",
        "df_fix.loc[:,'EXT_SOURCE_1'] = df_fix['EXT_SOURCE_1'].fillna(df_fix['EXT_SOURCE_1'].mean())\n",
        "df_fix.loc[:,'EXT_SOURCE_2'] = df_fix['EXT_SOURCE_2'].fillna(df_fix['EXT_SOURCE_2'].mean())\n",
        "df_fix.loc[:,'EXT_SOURCE_3'] = df_fix['EXT_SOURCE_3'].fillna(df_fix['EXT_SOURCE_3'].mean())"
      ],
      "metadata": {
        "id": "KX0f2WKB5qLD"
      },
      "execution_count": null,
      "outputs": []
    },
    {
      "cell_type": "markdown",
      "source": [
        "# **Modeling**"
      ],
      "metadata": {
        "id": "HDY5QFVt8Q33"
      }
    },
    {
      "cell_type": "code",
      "source": [
        "import lightgbm as lgb\n",
        "from sklearn.preprocessing import MinMaxScaler, LabelEncoder\n",
        "from sklearn.model_selection import train_test_split\n",
        "from sklearn.metrics import roc_curve, roc_auc_score, confusion_matrix"
      ],
      "metadata": {
        "id": "mvkQPtkrGQBZ"
      },
      "execution_count": null,
      "outputs": []
    },
    {
      "cell_type": "code",
      "source": [
        "# melakukan train, test, split data\n",
        "X = df_fix.iloc[:,1:].values\n",
        "y = df_fix['TARGET'].values\n",
        "X_train, X_test, y_train, y_test = train_test_split(X, y, test_size=0.2, random_state=22)"
      ],
      "metadata": {
        "id": "vaKLeFkNFvBC"
      },
      "execution_count": null,
      "outputs": []
    },
    {
      "cell_type": "code",
      "source": [
        "# menggunakan MinMaxScaler untuk normalize data\n",
        "min_max_scaler = MinMaxScaler()\n",
        "X_train_scaled = min_max_scaler.fit_transform(X_train)\n",
        "X_test_scaled = min_max_scaler.fit_transform(X_test)"
      ],
      "metadata": {
        "id": "tu2MtHfLFvKw"
      },
      "execution_count": null,
      "outputs": []
    },
    {
      "cell_type": "code",
      "source": [
        "# melakukan train model menggunakan LightGBM\n",
        "model = lgb.LGBMClassifier(n_estimators=100, class_weight='balanced', random_state=22)\n",
        "model.fit(X_train_scaled, y_train, eval_metric='auc', eval_set=[(X_train_scaled, y_train),(X_test_scaled, y_test)])"
      ],
      "metadata": {
        "colab": {
          "base_uri": "https://localhost:8080/"
        },
        "id": "2ziKtjgSFvNZ",
        "outputId": "05bae4bb-163c-4215-9c51-3004262fa27d"
      },
      "execution_count": null,
      "outputs": [
        {
          "output_type": "stream",
          "name": "stdout",
          "text": [
            "[1]\ttraining's auc: 0.716129\ttraining's binary_logloss: 0.679697\tvalid_1's auc: 0.70661\tvalid_1's binary_logloss: 0.679319\n",
            "[2]\ttraining's auc: 0.72009\ttraining's binary_logloss: 0.668719\tvalid_1's auc: 0.710349\tvalid_1's binary_logloss: 0.668222\n",
            "[3]\ttraining's auc: 0.72545\ttraining's binary_logloss: 0.659229\tvalid_1's auc: 0.715204\tvalid_1's binary_logloss: 0.65832\n",
            "[4]\ttraining's auc: 0.728886\ttraining's binary_logloss: 0.651214\tvalid_1's auc: 0.718508\tvalid_1's binary_logloss: 0.649986\n",
            "[5]\ttraining's auc: 0.732023\ttraining's binary_logloss: 0.644161\tvalid_1's auc: 0.721403\tvalid_1's binary_logloss: 0.642372\n",
            "[6]\ttraining's auc: 0.733705\ttraining's binary_logloss: 0.638354\tvalid_1's auc: 0.722903\tvalid_1's binary_logloss: 0.636248\n",
            "[7]\ttraining's auc: 0.735019\ttraining's binary_logloss: 0.633216\tvalid_1's auc: 0.724413\tvalid_1's binary_logloss: 0.63078\n",
            "[8]\ttraining's auc: 0.736268\ttraining's binary_logloss: 0.628904\tvalid_1's auc: 0.725192\tvalid_1's binary_logloss: 0.626096\n",
            "[9]\ttraining's auc: 0.737588\ttraining's binary_logloss: 0.624853\tvalid_1's auc: 0.726293\tvalid_1's binary_logloss: 0.621496\n",
            "[10]\ttraining's auc: 0.738507\ttraining's binary_logloss: 0.621424\tvalid_1's auc: 0.726944\tvalid_1's binary_logloss: 0.617752\n",
            "[11]\ttraining's auc: 0.740138\ttraining's binary_logloss: 0.61835\tvalid_1's auc: 0.727807\tvalid_1's binary_logloss: 0.613911\n",
            "[12]\ttraining's auc: 0.741389\ttraining's binary_logloss: 0.615489\tvalid_1's auc: 0.72832\tvalid_1's binary_logloss: 0.610072\n",
            "[13]\ttraining's auc: 0.742538\ttraining's binary_logloss: 0.612867\tvalid_1's auc: 0.72928\tvalid_1's binary_logloss: 0.607028\n",
            "[14]\ttraining's auc: 0.744078\ttraining's binary_logloss: 0.610477\tvalid_1's auc: 0.729895\tvalid_1's binary_logloss: 0.603081\n",
            "[15]\ttraining's auc: 0.744866\ttraining's binary_logloss: 0.608433\tvalid_1's auc: 0.730376\tvalid_1's binary_logloss: 0.600693\n",
            "[16]\ttraining's auc: 0.746027\ttraining's binary_logloss: 0.606522\tvalid_1's auc: 0.730932\tvalid_1's binary_logloss: 0.597635\n",
            "[17]\ttraining's auc: 0.746793\ttraining's binary_logloss: 0.604865\tvalid_1's auc: 0.731353\tvalid_1's binary_logloss: 0.595512\n",
            "[18]\ttraining's auc: 0.74777\ttraining's binary_logloss: 0.603246\tvalid_1's auc: 0.731948\tvalid_1's binary_logloss: 0.593347\n",
            "[19]\ttraining's auc: 0.748546\ttraining's binary_logloss: 0.601844\tvalid_1's auc: 0.73242\tvalid_1's binary_logloss: 0.591305\n",
            "[20]\ttraining's auc: 0.749409\ttraining's binary_logloss: 0.600474\tvalid_1's auc: 0.732811\tvalid_1's binary_logloss: 0.588573\n",
            "[21]\ttraining's auc: 0.750505\ttraining's binary_logloss: 0.599163\tvalid_1's auc: 0.733674\tvalid_1's binary_logloss: 0.586531\n",
            "[22]\ttraining's auc: 0.751235\ttraining's binary_logloss: 0.597953\tvalid_1's auc: 0.73409\tvalid_1's binary_logloss: 0.584642\n",
            "[23]\ttraining's auc: 0.752009\ttraining's binary_logloss: 0.596858\tvalid_1's auc: 0.734486\tvalid_1's binary_logloss: 0.582651\n",
            "[24]\ttraining's auc: 0.752865\ttraining's binary_logloss: 0.595778\tvalid_1's auc: 0.735132\tvalid_1's binary_logloss: 0.580761\n",
            "[25]\ttraining's auc: 0.753606\ttraining's binary_logloss: 0.594712\tvalid_1's auc: 0.735326\tvalid_1's binary_logloss: 0.578497\n",
            "[26]\ttraining's auc: 0.75458\ttraining's binary_logloss: 0.593604\tvalid_1's auc: 0.735638\tvalid_1's binary_logloss: 0.576348\n",
            "[27]\ttraining's auc: 0.755371\ttraining's binary_logloss: 0.592587\tvalid_1's auc: 0.736234\tvalid_1's binary_logloss: 0.574997\n",
            "[28]\ttraining's auc: 0.756086\ttraining's binary_logloss: 0.591728\tvalid_1's auc: 0.736502\tvalid_1's binary_logloss: 0.573192\n",
            "[29]\ttraining's auc: 0.756681\ttraining's binary_logloss: 0.590928\tvalid_1's auc: 0.736584\tvalid_1's binary_logloss: 0.57115\n",
            "[30]\ttraining's auc: 0.757329\ttraining's binary_logloss: 0.590044\tvalid_1's auc: 0.736758\tvalid_1's binary_logloss: 0.568287\n",
            "[31]\ttraining's auc: 0.757885\ttraining's binary_logloss: 0.589314\tvalid_1's auc: 0.737139\tvalid_1's binary_logloss: 0.566684\n",
            "[32]\ttraining's auc: 0.758519\ttraining's binary_logloss: 0.588518\tvalid_1's auc: 0.73734\tvalid_1's binary_logloss: 0.564548\n",
            "[33]\ttraining's auc: 0.759119\ttraining's binary_logloss: 0.587823\tvalid_1's auc: 0.73775\tvalid_1's binary_logloss: 0.563206\n",
            "[34]\ttraining's auc: 0.759746\ttraining's binary_logloss: 0.587094\tvalid_1's auc: 0.738079\tvalid_1's binary_logloss: 0.562289\n",
            "[35]\ttraining's auc: 0.760247\ttraining's binary_logloss: 0.586496\tvalid_1's auc: 0.738249\tvalid_1's binary_logloss: 0.56099\n",
            "[36]\ttraining's auc: 0.761035\ttraining's binary_logloss: 0.585698\tvalid_1's auc: 0.738851\tvalid_1's binary_logloss: 0.55917\n",
            "[37]\ttraining's auc: 0.761541\ttraining's binary_logloss: 0.585137\tvalid_1's auc: 0.738916\tvalid_1's binary_logloss: 0.557741\n",
            "[38]\ttraining's auc: 0.762052\ttraining's binary_logloss: 0.584552\tvalid_1's auc: 0.73932\tvalid_1's binary_logloss: 0.556688\n",
            "[39]\ttraining's auc: 0.762586\ttraining's binary_logloss: 0.583932\tvalid_1's auc: 0.739567\tvalid_1's binary_logloss: 0.555745\n",
            "[40]\ttraining's auc: 0.763089\ttraining's binary_logloss: 0.583392\tvalid_1's auc: 0.739573\tvalid_1's binary_logloss: 0.554658\n",
            "[41]\ttraining's auc: 0.763521\ttraining's binary_logloss: 0.582817\tvalid_1's auc: 0.739718\tvalid_1's binary_logloss: 0.553908\n",
            "[42]\ttraining's auc: 0.763994\ttraining's binary_logloss: 0.58229\tvalid_1's auc: 0.739964\tvalid_1's binary_logloss: 0.55336\n",
            "[43]\ttraining's auc: 0.764708\ttraining's binary_logloss: 0.581571\tvalid_1's auc: 0.740114\tvalid_1's binary_logloss: 0.551158\n",
            "[44]\ttraining's auc: 0.765175\ttraining's binary_logloss: 0.58107\tvalid_1's auc: 0.740359\tvalid_1's binary_logloss: 0.550633\n",
            "[45]\ttraining's auc: 0.765832\ttraining's binary_logloss: 0.580399\tvalid_1's auc: 0.740359\tvalid_1's binary_logloss: 0.548193\n",
            "[46]\ttraining's auc: 0.766288\ttraining's binary_logloss: 0.579961\tvalid_1's auc: 0.740487\tvalid_1's binary_logloss: 0.547681\n",
            "[47]\ttraining's auc: 0.766828\ttraining's binary_logloss: 0.579382\tvalid_1's auc: 0.740922\tvalid_1's binary_logloss: 0.54734\n",
            "[48]\ttraining's auc: 0.767357\ttraining's binary_logloss: 0.578859\tvalid_1's auc: 0.740862\tvalid_1's binary_logloss: 0.545047\n",
            "[49]\ttraining's auc: 0.767828\ttraining's binary_logloss: 0.578321\tvalid_1's auc: 0.740768\tvalid_1's binary_logloss: 0.542834\n",
            "[50]\ttraining's auc: 0.768239\ttraining's binary_logloss: 0.577837\tvalid_1's auc: 0.740965\tvalid_1's binary_logloss: 0.542299\n",
            "[51]\ttraining's auc: 0.768587\ttraining's binary_logloss: 0.577419\tvalid_1's auc: 0.741164\tvalid_1's binary_logloss: 0.541619\n",
            "[52]\ttraining's auc: 0.769041\ttraining's binary_logloss: 0.576961\tvalid_1's auc: 0.741085\tvalid_1's binary_logloss: 0.540241\n",
            "[53]\ttraining's auc: 0.769463\ttraining's binary_logloss: 0.576518\tvalid_1's auc: 0.741327\tvalid_1's binary_logloss: 0.539901\n",
            "[54]\ttraining's auc: 0.769888\ttraining's binary_logloss: 0.576106\tvalid_1's auc: 0.7414\tvalid_1's binary_logloss: 0.539392\n",
            "[55]\ttraining's auc: 0.77029\ttraining's binary_logloss: 0.575671\tvalid_1's auc: 0.74157\tvalid_1's binary_logloss: 0.538956\n",
            "[56]\ttraining's auc: 0.770633\ttraining's binary_logloss: 0.575277\tvalid_1's auc: 0.741685\tvalid_1's binary_logloss: 0.538692\n",
            "[57]\ttraining's auc: 0.77098\ttraining's binary_logloss: 0.574862\tvalid_1's auc: 0.74175\tvalid_1's binary_logloss: 0.538501\n",
            "[58]\ttraining's auc: 0.771364\ttraining's binary_logloss: 0.574463\tvalid_1's auc: 0.741861\tvalid_1's binary_logloss: 0.537826\n",
            "[59]\ttraining's auc: 0.771796\ttraining's binary_logloss: 0.574009\tvalid_1's auc: 0.741872\tvalid_1's binary_logloss: 0.535671\n",
            "[60]\ttraining's auc: 0.77214\ttraining's binary_logloss: 0.573636\tvalid_1's auc: 0.741883\tvalid_1's binary_logloss: 0.535457\n",
            "[61]\ttraining's auc: 0.77259\ttraining's binary_logloss: 0.573174\tvalid_1's auc: 0.742164\tvalid_1's binary_logloss: 0.535226\n",
            "[62]\ttraining's auc: 0.772978\ttraining's binary_logloss: 0.572801\tvalid_1's auc: 0.742279\tvalid_1's binary_logloss: 0.534564\n",
            "[63]\ttraining's auc: 0.773298\ttraining's binary_logloss: 0.57243\tvalid_1's auc: 0.742373\tvalid_1's binary_logloss: 0.534078\n",
            "[64]\ttraining's auc: 0.773607\ttraining's binary_logloss: 0.572104\tvalid_1's auc: 0.7424\tvalid_1's binary_logloss: 0.533797\n",
            "[65]\ttraining's auc: 0.773997\ttraining's binary_logloss: 0.571707\tvalid_1's auc: 0.742346\tvalid_1's binary_logloss: 0.533007\n",
            "[66]\ttraining's auc: 0.774357\ttraining's binary_logloss: 0.571384\tvalid_1's auc: 0.742338\tvalid_1's binary_logloss: 0.533063\n",
            "[67]\ttraining's auc: 0.77465\ttraining's binary_logloss: 0.571004\tvalid_1's auc: 0.742242\tvalid_1's binary_logloss: 0.532941\n",
            "[68]\ttraining's auc: 0.775063\ttraining's binary_logloss: 0.570572\tvalid_1's auc: 0.742548\tvalid_1's binary_logloss: 0.532694\n",
            "[69]\ttraining's auc: 0.775337\ttraining's binary_logloss: 0.570261\tvalid_1's auc: 0.742585\tvalid_1's binary_logloss: 0.532584\n",
            "[70]\ttraining's auc: 0.775674\ttraining's binary_logloss: 0.569934\tvalid_1's auc: 0.742706\tvalid_1's binary_logloss: 0.531975\n",
            "[71]\ttraining's auc: 0.775976\ttraining's binary_logloss: 0.569637\tvalid_1's auc: 0.742753\tvalid_1's binary_logloss: 0.531491\n",
            "[72]\ttraining's auc: 0.77628\ttraining's binary_logloss: 0.569327\tvalid_1's auc: 0.742715\tvalid_1's binary_logloss: 0.531152\n",
            "[73]\ttraining's auc: 0.776677\ttraining's binary_logloss: 0.568893\tvalid_1's auc: 0.742986\tvalid_1's binary_logloss: 0.530821\n",
            "[74]\ttraining's auc: 0.776997\ttraining's binary_logloss: 0.568558\tvalid_1's auc: 0.742954\tvalid_1's binary_logloss: 0.530346\n",
            "[75]\ttraining's auc: 0.777413\ttraining's binary_logloss: 0.568117\tvalid_1's auc: 0.742961\tvalid_1's binary_logloss: 0.529874\n",
            "[76]\ttraining's auc: 0.777714\ttraining's binary_logloss: 0.56784\tvalid_1's auc: 0.742816\tvalid_1's binary_logloss: 0.529433\n",
            "[77]\ttraining's auc: 0.777987\ttraining's binary_logloss: 0.567585\tvalid_1's auc: 0.742782\tvalid_1's binary_logloss: 0.529273\n",
            "[78]\ttraining's auc: 0.778239\ttraining's binary_logloss: 0.567356\tvalid_1's auc: 0.742799\tvalid_1's binary_logloss: 0.529113\n",
            "[79]\ttraining's auc: 0.778619\ttraining's binary_logloss: 0.566986\tvalid_1's auc: 0.742926\tvalid_1's binary_logloss: 0.528995\n",
            "[80]\ttraining's auc: 0.779014\ttraining's binary_logloss: 0.566559\tvalid_1's auc: 0.74302\tvalid_1's binary_logloss: 0.528097\n",
            "[81]\ttraining's auc: 0.779252\ttraining's binary_logloss: 0.566345\tvalid_1's auc: 0.743007\tvalid_1's binary_logloss: 0.527947\n",
            "[82]\ttraining's auc: 0.779606\ttraining's binary_logloss: 0.565953\tvalid_1's auc: 0.743007\tvalid_1's binary_logloss: 0.527724\n",
            "[83]\ttraining's auc: 0.77986\ttraining's binary_logloss: 0.565716\tvalid_1's auc: 0.743038\tvalid_1's binary_logloss: 0.527508\n",
            "[84]\ttraining's auc: 0.780084\ttraining's binary_logloss: 0.565484\tvalid_1's auc: 0.743054\tvalid_1's binary_logloss: 0.527416\n",
            "[85]\ttraining's auc: 0.780425\ttraining's binary_logloss: 0.565148\tvalid_1's auc: 0.743112\tvalid_1's binary_logloss: 0.526713\n",
            "[86]\ttraining's auc: 0.780666\ttraining's binary_logloss: 0.564898\tvalid_1's auc: 0.743093\tvalid_1's binary_logloss: 0.526552\n",
            "[87]\ttraining's auc: 0.780988\ttraining's binary_logloss: 0.564601\tvalid_1's auc: 0.743088\tvalid_1's binary_logloss: 0.526367\n",
            "[88]\ttraining's auc: 0.781346\ttraining's binary_logloss: 0.564262\tvalid_1's auc: 0.74294\tvalid_1's binary_logloss: 0.525615\n",
            "[89]\ttraining's auc: 0.781617\ttraining's binary_logloss: 0.563999\tvalid_1's auc: 0.742923\tvalid_1's binary_logloss: 0.52545\n",
            "[90]\ttraining's auc: 0.78193\ttraining's binary_logloss: 0.563693\tvalid_1's auc: 0.742889\tvalid_1's binary_logloss: 0.525258\n",
            "[91]\ttraining's auc: 0.782212\ttraining's binary_logloss: 0.563449\tvalid_1's auc: 0.742886\tvalid_1's binary_logloss: 0.525086\n",
            "[92]\ttraining's auc: 0.782455\ttraining's binary_logloss: 0.563171\tvalid_1's auc: 0.742881\tvalid_1's binary_logloss: 0.524887\n",
            "[93]\ttraining's auc: 0.782763\ttraining's binary_logloss: 0.562879\tvalid_1's auc: 0.742988\tvalid_1's binary_logloss: 0.524676\n",
            "[94]\ttraining's auc: 0.782997\ttraining's binary_logloss: 0.562665\tvalid_1's auc: 0.743012\tvalid_1's binary_logloss: 0.524568\n",
            "[95]\ttraining's auc: 0.783214\ttraining's binary_logloss: 0.562464\tvalid_1's auc: 0.742985\tvalid_1's binary_logloss: 0.524432\n",
            "[96]\ttraining's auc: 0.783562\ttraining's binary_logloss: 0.562147\tvalid_1's auc: 0.742679\tvalid_1's binary_logloss: 0.523021\n",
            "[97]\ttraining's auc: 0.783796\ttraining's binary_logloss: 0.56193\tvalid_1's auc: 0.742825\tvalid_1's binary_logloss: 0.522843\n",
            "[98]\ttraining's auc: 0.78412\ttraining's binary_logloss: 0.561612\tvalid_1's auc: 0.742861\tvalid_1's binary_logloss: 0.522629\n",
            "[99]\ttraining's auc: 0.784419\ttraining's binary_logloss: 0.561263\tvalid_1's auc: 0.742863\tvalid_1's binary_logloss: 0.521978\n",
            "[100]\ttraining's auc: 0.784643\ttraining's binary_logloss: 0.561011\tvalid_1's auc: 0.742869\tvalid_1's binary_logloss: 0.521835\n"
          ]
        },
        {
          "output_type": "execute_result",
          "data": {
            "text/plain": [
              "LGBMClassifier(class_weight='balanced', random_state=22)"
            ]
          },
          "metadata": {},
          "execution_count": 236
        }
      ]
    },
    {
      "cell_type": "markdown",
      "source": [
        "## **Evaluation**"
      ],
      "metadata": {
        "id": "XMKQVKlfH3VK"
      }
    },
    {
      "cell_type": "code",
      "source": [
        "# Predict the probability score\n",
        "prob_train = model.predict_proba(X_train_scaled)\n",
        "prob_test = model.predict_proba(X_test_scaled)\n",
        "# Create train and test curve\n",
        "fpr_train, tpr_train, thresh_train = roc_curve(y_train, prob_train[:,1])\n",
        "fpr_test, tpr_test, thresh_test = roc_curve(y_test, prob_test[:,1])\n",
        "# Create the straight line (how the graph looks like if the model does random guess instead)\n",
        "random_probs = [0 for i in range(len(y_test))]\n",
        "p_fpr, p_tpr, _ = roc_curve(y_test, random_probs)\n",
        "# Plot the model\n",
        "plt.figure(figsize=(8,6))\n",
        "plt.title('ROC Curve')\n",
        "plt.plot(fpr_train, tpr_train, label='Train')\n",
        "plt.plot(fpr_test, tpr_test, label='Test')\n",
        "plt.plot(p_fpr, p_tpr)\n",
        "plt.xlabel('False Positive Rate')\n",
        "plt.ylabel('True Positive Rate')\n",
        "plt.legend()"
      ],
      "metadata": {
        "colab": {
          "base_uri": "https://localhost:8080/",
          "height": 421
        },
        "id": "JJgyQ4C4FvPn",
        "outputId": "73b890f4-6068-40d3-91f3-64f4ec3b1da2"
      },
      "execution_count": null,
      "outputs": [
        {
          "output_type": "execute_result",
          "data": {
            "text/plain": [
              "<matplotlib.legend.Legend at 0x7f37d55d80d0>"
            ]
          },
          "metadata": {},
          "execution_count": 237
        },
        {
          "output_type": "display_data",
          "data": {
            "text/plain": [
              "<Figure size 576x432 with 1 Axes>"
            ],
            "image/png": "[encoded data removed]"
          },
          "metadata": {
            "needs_background": "light"
          }
        }
      ]
    },
    {
      "cell_type": "code",
      "source": [
        "# Calculating the train and test AUC score\n",
        "auc_score_train = roc_auc_score(y_train, prob_train[:,1])\n",
        "auc_score_test = roc_auc_score(y_test, prob_test[:,1])\n",
        "print('auc_score_train =', auc_score_train)\n",
        "print('auc_score_test =', auc_score_test)"
      ],
      "metadata": {
        "colab": {
          "base_uri": "https://localhost:8080/"
        },
        "id": "uFHujPf7F7LN",
        "outputId": "c66929d1-0c3a-44cd-a156-f52a5fc2fba5"
      },
      "execution_count": null,
      "outputs": [
        {
          "output_type": "stream",
          "name": "stdout",
          "text": [
            "auc_score_train = 0.7846431671054663\n",
            "auc_score_test = 0.7428694809852473\n"
          ]
        }
      ]
    }
  ]
}